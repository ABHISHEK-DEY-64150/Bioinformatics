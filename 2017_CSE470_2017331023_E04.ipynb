{
  "nbformat": 4,
  "nbformat_minor": 0,
  "metadata": {
    "colab": {
      "provenance": [],
      "include_colab_link": true
    },
    "kernelspec": {
      "name": "python3",
      "display_name": "Python 3"
    },
    "language_info": {
      "name": "python"
    }
  },
  "cells": [
    {
      "cell_type": "markdown",
      "metadata": {
        "id": "view-in-github",
        "colab_type": "text"
      },
      "source": [
        "<a href=\"https://colab.research.google.com/github/ABHISHEK-DEY-64150/Bioinformatics/blob/main/2017_CSE470_2017331023_E04.ipynb\" target=\"_parent\"><img src=\"https://colab.research.google.com/assets/colab-badge.svg\" alt=\"Open In Colab\"/></a>"
      ]
    },
    {
      "cell_type": "code",
      "execution_count": null,
      "metadata": {
        "colab": {
          "base_uri": "https://localhost:8080/"
        },
        "id": "UsYlmkXx2uCg",
        "outputId": "e32907f2-8427-48f0-aad4-b32d6e22f278"
      },
      "outputs": [
        {
          "output_type": "execute_result",
          "data": {
            "text/plain": [
              "set()"
            ]
          },
          "metadata": {},
          "execution_count": 7
        }
      ],
      "source": [
        "import itertools\n",
        "def hamming_distance(kmer1,kmer2):\n",
        "  return sum(c1!=c2 for c1,c2 in zip(kmer1,kmer2))\n",
        "\n",
        "def kmer_set_from_dna_list(dna_list):\n",
        "  return {dna_list[i][j:j+k] for i in range(len(dna_list)) for j in range(len(dna_list[i])-k+1)}\n",
        "\n",
        "def neighborhood_kmers(kmer,d):\n",
        "  for nkmer in [''.join(p) for p in itertools.product(\"ACGT\",repeat = len(kmer))]:\n",
        "    if hamming_distance(nkmer,kmer)<=d:\n",
        "      yield nkmer\n",
        "      \n",
        "def kmer_exist_in_dna(kmer,dna,d):\n",
        "  return any(hamming_distance(kmer,dna[i:i+len(kmer)])<=d for i in range(len(dna)-len(kmer)+1))      \n",
        "\n",
        "\n",
        "\n",
        "def motif_enumeration(dna_list,k,d):\n",
        "  motif_set = set()\n",
        "  kmer_set = kmer_set_from_dna_list(dna_list)\n",
        "  for kmer in kmer_set:\n",
        "    n_kmer_list = neighborhood_kmers(kmer,d)\n",
        "    for nkmer in n_kmer_list:\n",
        "      if all(kmer_exist_in_dna(nkmer,dna,d) for dna in dna_list):\n",
        "        motif_set.add(nkmer)\n",
        "  return motif_set      \n",
        "\n",
        "k,d =5,1\n",
        "dna_list = '''ATTTGGC\n",
        "TGCCTTA\n",
        "CGGTATC\n",
        "GAAATT'''.split()\n",
        "\n",
        "# kmer_set_from_dna_list(dna_list)\n",
        "# list(neighborhood_kmers('ACG',1))\n",
        "\n",
        "motif_enumeration(dna_list,k,d)\n"
      ]
    },
    {
      "cell_type": "markdown",
      "source": [
        "BA2B:find a median string"
      ],
      "metadata": {
        "id": "kvHMHIDD3IkE"
      }
    },
    {
      "cell_type": "code",
      "source": [
        "def distance(dna,kmer):\n",
        "    return min(hamming_distance(dna[i:i + len(kmer)],kmer) for i in range(len(dna) - k +1))\n",
        "def median_string(dna_list,k):\n",
        "    best_score = len(dna_list) + len(dna_list[0])\n",
        "    for kmer in [''.join(p) for p in itertools.product(\"ACGT\", repeat = k)]:\n",
        "        score = sum(distance(dna,kmer) for dna in dna_list)\n",
        "        if score < best_score:\n",
        "            best_score = score\n",
        "            best_motif = kmer\n",
        "    return best_motif\n",
        "\n",
        "\n",
        "k = 5\n",
        "dna_list = '''AAATTGACGCAT\n",
        "GACGACCACGTT\n",
        "CGTCAGCGCCTG\n",
        "GCTGAGCACCGG\n",
        "AGTACGGGACAG'''.split()\n",
        "median_string(dna_list,k)\n",
        "\n"
      ],
      "metadata": {
        "colab": {
          "base_uri": "https://localhost:8080/",
          "height": 35
        },
        "id": "9JuSrXNy3H0d",
        "outputId": "6539d9ee-0477-40fc-f86c-572cb9aa25d2"
      },
      "execution_count": null,
      "outputs": [
        {
          "output_type": "execute_result",
          "data": {
            "text/plain": [
              "'AGCAC'"
            ],
            "application/vnd.google.colaboratory.intrinsic+json": {
              "type": "string"
            }
          },
          "metadata": {},
          "execution_count": 10
        }
      ]
    },
    {
      "cell_type": "markdown",
      "source": [
        "Profile most Probable k_mer  problem"
      ],
      "metadata": {
        "id": "tOhhvJ337aJy"
      }
    },
    {
      "cell_type": "code",
      "source": [
        "kmer = kmer_set_from_dna_list(dna_list)\n",
        "kmer"
      ],
      "metadata": {
        "id": "pmW0mxvq6qrs"
      },
      "execution_count": null,
      "outputs": []
    },
    {
      "cell_type": "code",
      "source": [
        "  "
      ],
      "metadata": {
        "id": "VMEBrDr67A3d"
      },
      "execution_count": null,
      "outputs": []
    },
    {
      "cell_type": "code",
      "source": [],
      "metadata": {
        "id": "6onD_cpFaVd7"
      },
      "execution_count": null,
      "outputs": []
    },
    {
      "cell_type": "code",
      "source": [
        "dna = \"AAGATTCTCTAC\"\n",
        "k = 4\n",
        "k_mer = kmer_comp(dna,k)\n",
        "print(k_mer) \n",
        "\n",
        "edges = {}\n",
        "\n",
        "for i in range(len(k_mer)):\n",
        "  seq = k_mer[i]\n",
        " \n",
        "  edges.setdefault(seq[0:k-1], []).append(seq[1:k])\n",
        "   \n",
        "\n",
        "for k,v in edges.items():\n",
        "  print(k,\"->\",end=\" \")\n",
        "  for i in range(len(v)):\n",
        "    print(v[i],end=\" \")\n",
        "  print(\"\\n\")\n",
        "\n"
      ],
      "metadata": {
        "colab": {
          "base_uri": "https://localhost:8080/"
        },
        "id": "tGcPBE8rS3R8",
        "outputId": "29523426-dc2f-4b2d-fc97-14a932ab7462"
      },
      "execution_count": null,
      "outputs": [
        {
          "output_type": "stream",
          "name": "stdout",
          "text": [
            "['AAGA', 'AGAT', 'ATTC', 'CTAC', 'CTCT', 'GATT', 'TCTA', 'TCTC', 'TTCT']\n",
            "AAG -> AGA \n",
            "\n",
            "AGA -> GAT \n",
            "\n",
            "ATT -> TTC \n",
            "\n",
            "CTA -> TAC \n",
            "\n",
            "CTC -> TCT \n",
            "\n",
            "GAT -> ATT \n",
            "\n",
            "TCT -> CTA CTC \n",
            "\n",
            "TTC -> TCT \n",
            "\n"
          ]
        }
      ]
    }
  ]
}