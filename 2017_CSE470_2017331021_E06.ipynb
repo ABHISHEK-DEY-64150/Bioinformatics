{
  "nbformat": 4,
  "nbformat_minor": 0,
  "metadata": {
    "colab": {
      "provenance": [],
      "authorship_tag": "ABX9TyNbTVhKUtQ+3I6goVrLuGPF",
      "include_colab_link": true
    },
    "kernelspec": {
      "name": "python3",
      "display_name": "Python 3"
    },
    "language_info": {
      "name": "python"
    }
  },
  "cells": [
    {
      "cell_type": "markdown",
      "metadata": {
        "id": "view-in-github",
        "colab_type": "text"
      },
      "source": [
        "<a href=\"https://colab.research.google.com/github/ABHISHEK-DEY-64150/Bioinformatics/blob/main/2017_CSE470_2017331021_E06.ipynb\" target=\"_parent\"><img src=\"https://colab.research.google.com/assets/colab-badge.svg\" alt=\"Open In Colab\"/></a>"
      ]
    },
    {
      "cell_type": "markdown",
      "source": [
        "## BA4A : Translate an RNA String into an Amino Acid String"
      ],
      "metadata": {
        "id": "O6QbTS-uK2b9"
      }
    },
    {
      "cell_type": "code",
      "source": [
        "def get_codon_table():\n",
        "  table = '''\n",
        "    UUU F      CUU L      AUU I      GUU V\n",
        "    UUC F      CUC L      AUC I      GUC V\n",
        "    UUA L      CUA L      AUA I      GUA V\n",
        "    UUG L      CUG L      AUG M      GUG V\n",
        "    UCU S      CCU P      ACU T      GCU A\n",
        "    UCC S      CCC P      ACC T      GCC A\n",
        "    UCA S      CCA P      ACA T      GCA A\n",
        "    UCG S      CCG P      ACG T      GCG A\n",
        "    UAU Y      CAU H      AAU N      GAU D\n",
        "    UAC Y      CAC H      AAC N      GAC D\n",
        "    UAA Stop   CAA Q      AAA K      GAA E\n",
        "    UAG Stop   CAG Q      AAG K      GAG E\n",
        "    UGU C      CGU R      AGU S      GGU G\n",
        "    UGC C      CGC R      AGC S      GGC G\n",
        "    UGA Stop   CGA R      AGA R      GGA G\n",
        "    UGG W      CGG R      AGG R      GGG G \n",
        "'''\n",
        "  \n",
        "  table = table.split()\n",
        "  return dict(zip(table[0::2],table[1::2]))\n",
        " \n",
        "codon = get_codon_table() \n",
        "codon\n"
      ],
      "metadata": {
        "colab": {
          "base_uri": "https://localhost:8080/"
        },
        "id": "Shp-oJzePDUO",
        "outputId": "8ccbba21-ee8e-4099-93c2-74a2de36a5a2"
      },
      "execution_count": null,
      "outputs": [
        {
          "output_type": "execute_result",
          "data": {
            "text/plain": [
              "{'UUU': 'F',\n",
              " 'CUU': 'L',\n",
              " 'AUU': 'I',\n",
              " 'GUU': 'V',\n",
              " 'UUC': 'F',\n",
              " 'CUC': 'L',\n",
              " 'AUC': 'I',\n",
              " 'GUC': 'V',\n",
              " 'UUA': 'L',\n",
              " 'CUA': 'L',\n",
              " 'AUA': 'I',\n",
              " 'GUA': 'V',\n",
              " 'UUG': 'L',\n",
              " 'CUG': 'L',\n",
              " 'AUG': 'M',\n",
              " 'GUG': 'V',\n",
              " 'UCU': 'S',\n",
              " 'CCU': 'P',\n",
              " 'ACU': 'T',\n",
              " 'GCU': 'A',\n",
              " 'UCC': 'S',\n",
              " 'CCC': 'P',\n",
              " 'ACC': 'T',\n",
              " 'GCC': 'A',\n",
              " 'UCA': 'S',\n",
              " 'CCA': 'P',\n",
              " 'ACA': 'T',\n",
              " 'GCA': 'A',\n",
              " 'UCG': 'S',\n",
              " 'CCG': 'P',\n",
              " 'ACG': 'T',\n",
              " 'GCG': 'A',\n",
              " 'UAU': 'Y',\n",
              " 'CAU': 'H',\n",
              " 'AAU': 'N',\n",
              " 'GAU': 'D',\n",
              " 'UAC': 'Y',\n",
              " 'CAC': 'H',\n",
              " 'AAC': 'N',\n",
              " 'GAC': 'D',\n",
              " 'UAA': 'Stop',\n",
              " 'CAA': 'Q',\n",
              " 'AAA': 'K',\n",
              " 'GAA': 'E',\n",
              " 'UAG': 'Stop',\n",
              " 'CAG': 'Q',\n",
              " 'AAG': 'K',\n",
              " 'GAG': 'E',\n",
              " 'UGU': 'C',\n",
              " 'CGU': 'R',\n",
              " 'AGU': 'S',\n",
              " 'GGU': 'G',\n",
              " 'UGC': 'C',\n",
              " 'CGC': 'R',\n",
              " 'AGC': 'S',\n",
              " 'GGC': 'G',\n",
              " 'UGA': 'Stop',\n",
              " 'CGA': 'R',\n",
              " 'AGA': 'R',\n",
              " 'GGA': 'G',\n",
              " 'UGG': 'W',\n",
              " 'CGG': 'R',\n",
              " 'AGG': 'R',\n",
              " 'GGG': 'G'}"
            ]
          },
          "metadata": {},
          "execution_count": 1
        }
      ]
    },
    {
      "cell_type": "code",
      "source": [
        "def translate(rna_seq):\n",
        "  codon_dict = get_codon_table()\n",
        "  return ''.join(codon_dict[rna_seq[i:i+3]] for i in range(0,len(rna_seq),3)\n",
        "             if codon_dict[rna_seq[i:i+3]]!='Stop')\n",
        "  \n",
        "\n",
        "\n",
        "rna_seq = 'AUGGCCAUGGCGCCCAGAACUGAGAUCAAUAGUACCCGUAUUAACGGGUGA'\n",
        "\n",
        "translate(rna_seq)\n"
      ],
      "metadata": {
        "colab": {
          "base_uri": "https://localhost:8080/",
          "height": 35
        },
        "id": "QPC6p8LXR3bu",
        "outputId": "02848f48-8a66-42ad-e675-8cb3c2587f4b"
      },
      "execution_count": null,
      "outputs": [
        {
          "output_type": "execute_result",
          "data": {
            "text/plain": [
              "'MAMAPRTEINSTRING'"
            ],
            "application/vnd.google.colaboratory.intrinsic+json": {
              "type": "string"
            }
          },
          "metadata": {},
          "execution_count": 40
        }
      ]
    },
    {
      "cell_type": "markdown",
      "source": [
        "## BA4B : Find Substrings of a Genome Encoding a Given Amino Acid String"
      ],
      "metadata": {
        "id": "aTF43d6hTHq6"
      }
    },
    {
      "cell_type": "code",
      "source": [
        "from traitlets.config.application import defaultdict\n",
        "import itertools\n",
        "def reverse_complement(dna):\n",
        "  complement = dict(zip('ACGT','TGCA'))\n",
        "  return ''.join(complement[base] for base in dna[::-1])\n",
        "\n",
        "def get_anti_codon_dict():\n",
        "  codon_dict = get_codon_table()\n",
        "  anti_codon_dict = defaultdict(list)\n",
        "  for k,v in codon_dict.items():\n",
        "    anti_codon_dict[v].append(k)\n",
        "  return anti_codon_dict\n",
        "\n",
        "\n",
        "def peptide_to_dna(peptide):\n",
        "  anti_codon_dict = get_anti_codon_dict()\n",
        "  rna_list = [anti_codon_dict[a] for a in peptide]\n",
        "  return [''.join(s).replace('U','T') for s in itertools.product(*rna_list)] \n",
        "\n",
        "def reverse_translate(dna,peptide):\n",
        "  candidate_dna_list = peptide_to_dna(peptide)\n",
        "  candidate_dna_list += [reverse_complement(d) for d in candidate_dna_list]\n",
        "  k = len(peptide)*3\n",
        "  return [dna[i:i+k] for i in range(len(dna)-k+1) if dna[i:i+k] in candidate_dna_list]\n",
        "\n",
        "\n",
        "dna = 'ATGGCCATGGCCCCCAGAACTGAGATCAATAGTACCCGTATTAACGGGTGA'\n",
        "peptide ='MA'\n",
        "\n",
        "print('\\n'.join(reverse_translate(dna,peptide)))\n",
        "\n"
      ],
      "metadata": {
        "colab": {
          "base_uri": "https://localhost:8080/"
        },
        "id": "ISHKvUWNXTiN",
        "outputId": "03663b1c-8694-40ca-f7dc-26d0c622b395"
      },
      "execution_count": null,
      "outputs": [
        {
          "output_type": "stream",
          "name": "stdout",
          "text": [
            "ATGGCC\n",
            "GGCCAT\n",
            "ATGGCC\n"
          ]
        }
      ]
    },
    {
      "cell_type": "markdown",
      "source": [
        "## BA4C : Generate the Theoretical Spectrum of a Cyclic Peptide"
      ],
      "metadata": {
        "id": "JhX26y72cjFE"
      }
    },
    {
      "cell_type": "code",
      "source": [
        "def cyclic_subString(p):\n",
        "  return ['',p]+[(p+p)[i:j+1] for i in range(len(p)) for j in range(i,i+len(p)-1)]\n",
        "\n",
        "cyclic_peptide = 'LEQN'\n",
        "\n",
        "cyclic_subString(cyclic_peptide)"
      ],
      "metadata": {
        "colab": {
          "base_uri": "https://localhost:8080/"
        },
        "id": "y5CvpE1bcrGR",
        "outputId": "023e923a-b664-4b7e-9800-59b05eefd55a"
      },
      "execution_count": null,
      "outputs": [
        {
          "output_type": "execute_result",
          "data": {
            "text/plain": [
              "['',\n",
              " 'LEQN',\n",
              " 'L',\n",
              " 'LE',\n",
              " 'LEQ',\n",
              " 'E',\n",
              " 'EQ',\n",
              " 'EQN',\n",
              " 'Q',\n",
              " 'QN',\n",
              " 'QNL',\n",
              " 'N',\n",
              " 'NL',\n",
              " 'NLE']"
            ]
          },
          "metadata": {},
          "execution_count": 42
        }
      ]
    },
    {
      "cell_type": "markdown",
      "source": [
        "## BA4D : Compute the Number of Peptides of Given Total Mass"
      ],
      "metadata": {
        "id": "cFNkg4zlkPSf"
      }
    },
    {
      "cell_type": "code",
      "source": [
        "peptide_mass = [57,71,87,97,99,101,103,113,114,115,128,129,131,137,147,156,163,186]\n",
        "\n",
        "\n",
        "def peptide_count_for_mass(mass):\n",
        "  masses = [0]*(mass+1)\n",
        "  masses[0] = 1\n",
        "\n",
        "  for i in range(mass+1):\n",
        "    for j in range(len(peptide_mass)):\n",
        "      if i>=peptide_mass[j]:\n",
        "        masses[i] += masses[i-peptide_mass[j]]\n",
        "\n",
        "\n",
        "  return masses[mass]\n",
        "\n",
        "mass = 1024\n",
        "\n",
        "mass = peptide_count_for_mass(mass)\n",
        "\n",
        "mass\n"
      ],
      "metadata": {
        "colab": {
          "base_uri": "https://localhost:8080/"
        },
        "id": "-QBtWzwJmAbw",
        "outputId": "e7a026f8-4f2f-43c1-e7a0-326c86ffae63"
      },
      "execution_count": null,
      "outputs": [
        {
          "output_type": "execute_result",
          "data": {
            "text/plain": [
              "14712706211"
            ]
          },
          "metadata": {},
          "execution_count": 43
        }
      ]
    },
    {
      "cell_type": "code",
      "source": [
        "import math\n",
        "import matplotlib.pyplot as plt\n",
        "import numpy as np\n",
        "\n",
        "def peptide_count_for_mass_graph(mass):\n",
        "  masses = [0]*(mass+1)\n",
        "  masses[0] = 1\n",
        "\n",
        "  for i in range(mass+1):\n",
        "    for j in range(len(peptide_mass)):\n",
        "      if i>=peptide_mass[j]:\n",
        "        masses[i] += masses[i-peptide_mass[j]]\n",
        "\n",
        "\n",
        "  return masses\n",
        "\n",
        "mass = 1024\n",
        "ways = peptide_count_for_mass_graph(mass)\n",
        "\n",
        "mass = []\n",
        "way = []\n",
        "\n",
        "for i in range(1025):\n",
        "  mass.append(i)\n",
        "  if ways[i]!=0:\n",
        "    way.append(math.log10(ways[i]))\n",
        "  else:\n",
        "    way.append(0)\n",
        "  \n",
        "\n",
        "plt.plot(mass, way)\n",
        "plt.show()"
      ],
      "metadata": {
        "colab": {
          "base_uri": "https://localhost:8080/",
          "height": 265
        },
        "id": "R_cRvgNwtiaA",
        "outputId": "eb2d6063-bb02-4d2b-ae14-f5512b4afef4"
      },
      "execution_count": null,
      "outputs": [
        {
          "output_type": "display_data",
          "data": {
            "text/plain": [
              "<Figure size 432x288 with 1 Axes>"
            ],
            "image/png": "[encoded data removed]"
          },
          "metadata": {
            "needs_background": "light"
          }
        }
      ]
    }
  ]
}