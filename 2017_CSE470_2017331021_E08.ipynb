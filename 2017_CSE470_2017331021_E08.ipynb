{
  "nbformat": 4,
  "nbformat_minor": 0,
  "metadata": {
    "colab": {
      "provenance": [],
      "authorship_tag": "ABX9TyMyUAXwpvr0/46KAduFa++J",
      "include_colab_link": true
    },
    "kernelspec": {
      "name": "python3",
      "display_name": "Python 3"
    },
    "language_info": {
      "name": "python"
    }
  },
  "cells": [
    {
      "cell_type": "markdown",
      "metadata": {
        "id": "view-in-github",
        "colab_type": "text"
      },
      "source": [
        "<a href=\"https://colab.research.google.com/github/ABHISHEK-DEY-64150/Bioinformatics/blob/main/2017_CSE470_2017331021_E08.ipynb\" target=\"_parent\"><img src=\"https://colab.research.google.com/assets/colab-badge.svg\" alt=\"Open In Colab\"/></a>"
      ]
    },
    {
      "cell_type": "markdown",
      "source": [
        "## BA6B : Compute the Number of Breakpoints in a Permutation"
      ],
      "metadata": {
        "id": "kyj7FwK12HlQ"
      }
    },
    {
      "cell_type": "code",
      "source": [
        "\n",
        "def break_point_count(p):\n",
        "  p = [0]+p+[len(p)+1]\n",
        "  return sum(1 if p[i]-p[i+1]!=-1 else 0 for i in range(len(p)-1))\n",
        "\n",
        "list = [+3, +4, +5, -12, -8, -7, -6, +1, +2, +10, +9, -11, +13, +14]\n",
        "\n",
        "break_point_count(list)\n",
        "     "
      ],
      "metadata": {
        "colab": {
          "base_uri": "https://localhost:8080/"
        },
        "id": "x1b0SpKP2eKj",
        "outputId": "eb39b7d3-5c44-41fa-ac1b-db8c50656a58"
      },
      "execution_count": null,
      "outputs": [
        {
          "output_type": "execute_result",
          "data": {
            "text/plain": [
              "8"
            ]
          },
          "metadata": {},
          "execution_count": 56
        }
      ]
    },
    {
      "cell_type": "markdown",
      "source": [
        "## BA6F : Implement ChromosomeToCycle"
      ],
      "metadata": {
        "id": "Q6hkQWfe7wWL"
      }
    },
    {
      "cell_type": "code",
      "source": [
        "\n",
        "def ChromoToCycle(list):\n",
        "  res = []\n",
        "\n",
        "  for i in list:\n",
        "    if i>0:\n",
        "      res.append(2*i - 1)\n",
        "      res.append(2*i)\n",
        "\n",
        "    else:\n",
        "      res.append(abs(2*i))\n",
        "      res.append(abs(2*i)-1)\n",
        "  return res\n",
        "\n",
        "\n",
        "list = [+1, -2, -3, +4]\n",
        "\n",
        "ChromoToCycle(list)"
      ],
      "metadata": {
        "colab": {
          "base_uri": "https://localhost:8080/"
        },
        "id": "akYDak4t5CST",
        "outputId": "c5007902-0152-4512-eab2-01a1501c4945"
      },
      "execution_count": null,
      "outputs": [
        {
          "output_type": "execute_result",
          "data": {
            "text/plain": [
              "[1, 2, 4, 3, 6, 5, 7, 8]"
            ]
          },
          "metadata": {},
          "execution_count": 57
        }
      ]
    },
    {
      "cell_type": "markdown",
      "source": [
        "## BA6G : Implement CycleToChromosome"
      ],
      "metadata": {
        "id": "IHQwplbE-h-g"
      }
    },
    {
      "cell_type": "code",
      "source": [
        "def CycleToChromo(list):\n",
        "  res = []\n",
        "  for i in range(0,len(list),2):\n",
        "    if list[i]<list[i+1]:\n",
        "      res.append(int(list[i+1]/2))\n",
        "    else:\n",
        "      res.append(int(-list[i]/2))\n",
        "\n",
        "  return res\n",
        "\n",
        "\n",
        "list = [1, 2, 4, 3, 6, 5, 7, 8]\n",
        "\n",
        "CycleToChromo(list)      "
      ],
      "metadata": {
        "colab": {
          "base_uri": "https://localhost:8080/"
        },
        "id": "5Q6ks3n29i8T",
        "outputId": "5d0088fc-8142-4b3d-b249-0d473bcca71c"
      },
      "execution_count": null,
      "outputs": [
        {
          "output_type": "execute_result",
          "data": {
            "text/plain": [
              "[1, -2, -3, 4]"
            ]
          },
          "metadata": {},
          "execution_count": 58
        }
      ]
    },
    {
      "cell_type": "markdown",
      "source": [
        "## BA6H :Implement ColoredEdges\n",
        "\n",
        "\n"
      ],
      "metadata": {
        "id": "Z2B9ElBLIYVM"
      }
    },
    {
      "cell_type": "code",
      "source": [
        "ch1 = [+1, -2, -3]\n",
        "ch2 = [+4, +5, -6]\n",
        "\n",
        "ans1 =  ChromoToCycle(ch1)\n",
        "ans2 =  ChromoToCycle(ch2)\n",
        "\n",
        "res = []\n",
        "\n",
        "\n",
        "\n",
        "for i in range(1,len(ans1)-1,2):\n",
        "  if i!=0:\n",
        "    res.append((ans1[i],ans1[i+1]))\n",
        "\n",
        "res.append((ans1[0],ans1[len(ans1)-1]))    \n",
        " \n",
        "\n",
        " \n",
        "for i in range(1,len(ans2)-1,2):\n",
        "  if i!=0:\n",
        "   res.append((ans2[i],ans2[i+1]))\n",
        "\n",
        "res.append((ans2[0],ans2[len(ans2)-1]))   \n",
        "\n",
        "print(res)\n",
        "\n",
        "\n",
        "\n"
      ],
      "metadata": {
        "colab": {
          "base_uri": "https://localhost:8080/"
        },
        "id": "QJDJoe9F_hjL",
        "outputId": "e482e8bf-8e45-435e-e687-1ecd2593cee6"
      },
      "execution_count": null,
      "outputs": [
        {
          "output_type": "stream",
          "name": "stdout",
          "text": [
            "[(2, 4), (3, 6), (1, 5), (8, 9), (10, 12), (7, 11)]\n"
          ]
        }
      ]
    },
    {
      "cell_type": "markdown",
      "source": [
        "## BA6I :Implement GraphToGenome"
      ],
      "metadata": {
        "id": "O1mLbPukOrzG"
      }
    },
    {
      "cell_type": "code",
      "source": [
        "def other_end(node):\n",
        "  return node-1 if node%2==0 else node+1\n",
        "\n",
        "def get_node(graph, node):\n",
        "  edge = [_ for _ in graph if node in _][0]\n",
        "  return edge if edge[0]==node else edge[::-1]\n",
        "\n",
        "def get_cycle(graph):\n",
        "  cycles = []\n",
        "  while(len(graph)>0):\n",
        "    start = graph[0]\n",
        "    graph.remove(start)\n",
        "    cycle = [start[0],start[1]]\n",
        "    while other_end(cycle[0])!=start[0] and other_end(cycle[0])!=start[1]:\n",
        "      start = get_node(graph, other_end(start[1]))\n",
        "      cycle.extend(start)\n",
        "      graph.remove(start) if start in graph else graph.remove(start[::-1])\n",
        "    cycles.append(cycle[-1:]+cycle[:-1])\n",
        "\n",
        "  return cycles\n",
        "\n",
        "graph = [(2, 4), (3, 6), (5, 1), (7, 9), (10, 12), (11, 8)]\n",
        "graph1 = [(2,4), (7,5), (1,3), (6,8)]   # ANS = (+2 -1)(-3 +4)\n",
        "# other_end(6)\n",
        "cyc = get_cycle(graph)\n",
        "# print(cyc)\n",
        "\n",
        "\n",
        "ans1 = CycleToChromo(cyc[0])\n",
        "ans2 =  CycleToChromo(cyc[1])\n",
        "\n",
        "print(ans1)\n",
        "print(ans2)\n",
        "\n"
      ],
      "metadata": {
        "colab": {
          "base_uri": "https://localhost:8080/"
        },
        "id": "gTPKgKAYReJx",
        "outputId": "1d684b75-02a1-4103-ee21-ddcfbfb697db"
      },
      "execution_count": null,
      "outputs": [
        {
          "output_type": "stream",
          "name": "stdout",
          "text": [
            "[1, -2, -3]\n",
            "[-4, 5, -6]\n"
          ]
        }
      ]
    },
    {
      "cell_type": "markdown",
      "source": [
        "## BA6J :Implement 2-BreakOnGenomeGraph"
      ],
      "metadata": {
        "id": "K_ekQM96di_M"
      }
    },
    {
      "cell_type": "code",
      "source": [
        "def two_break_on_graph(graph,i,j,k,l):\n",
        "  return [edge for edge in graph if edge not in [(i,j),(j,i),(k,l),(l,k)]]+[(i,k),(j,l)]\n",
        "\n",
        "\n",
        "graph = [(2, 4), (3, 8), (7, 5), (6, 1)]\n",
        "i,j,k,l = 1,6,3,8\n",
        "\n",
        "two_break_on_graph(graph,i,j,k,l)"
      ],
      "metadata": {
        "colab": {
          "base_uri": "https://localhost:8080/"
        },
        "id": "VK0s7E2hbhO7",
        "outputId": "cc206573-89b7-4a41-ddeb-48501e9bc504"
      },
      "execution_count": null,
      "outputs": [
        {
          "output_type": "execute_result",
          "data": {
            "text/plain": [
              "[(2, 4), (7, 5), (1, 3), (6, 8)]"
            ]
          },
          "metadata": {},
          "execution_count": 61
        }
      ]
    }
  ]
}