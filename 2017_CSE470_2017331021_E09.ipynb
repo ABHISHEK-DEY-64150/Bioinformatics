{
  "nbformat": 4,
  "nbformat_minor": 0,
  "metadata": {
    "colab": {
      "provenance": [],
      "authorship_tag": "ABX9TyMkqLUaC2CEyZkD3JTJztx4",
      "include_colab_link": true
    },
    "kernelspec": {
      "name": "python3",
      "display_name": "Python 3"
    },
    "language_info": {
      "name": "python"
    }
  },
  "cells": [
    {
      "cell_type": "markdown",
      "metadata": {
        "id": "view-in-github",
        "colab_type": "text"
      },
      "source": [
        "<a href=\"https://colab.research.google.com/github/ABHISHEK-DEY-64150/Bioinformatics/blob/main/2017_CSE470_2017331021_E09.ipynb\" target=\"_parent\"><img src=\"https://colab.research.google.com/assets/colab-badge.svg\" alt=\"Open In Colab\"/></a>"
      ]
    },
    {
      "cell_type": "markdown",
      "source": [
        "## BA7A : Compute Distances Between Leaves"
      ],
      "metadata": {
        "id": "rxT5JXBddhj7"
      }
    },
    {
      "cell_type": "code",
      "source": [
        "!pip install networkx"
      ],
      "metadata": {
        "colab": {
          "base_uri": "https://localhost:8080/"
        },
        "id": "aunJRRFLeIHW",
        "outputId": "0bce100b-6418-435a-ed71-4815ce7f317f"
      },
      "execution_count": null,
      "outputs": [
        {
          "output_type": "stream",
          "name": "stdout",
          "text": [
            "Looking in indexes: https://pypi.org/simple, https://us-python.pkg.dev/colab-wheels/public/simple/\n",
            "Requirement already satisfied: networkx in /usr/local/lib/python3.7/dist-packages (2.6.3)\n"
          ]
        }
      ]
    },
    {
      "cell_type": "code",
      "source": [
        "import networkx as nx\n",
        "\n",
        "def dist_matr(weighted_edge_list):\n",
        "  tree = nx.Graph()\n",
        "  tree.add_weighted_edges_from(weighted_edge_list)\n",
        " \n",
        "  dist = dict(nx.all_pairs_dijkstra_path_length(tree))\n",
        "  leaves = [n for n in tree.nodes() if tree.degree(n)==1]\n",
        "  return [[dist[n1][n2] for n1 in leaves] for n2 in leaves]\n"
      ],
      "metadata": {
        "id": "_4nUnHuVe7x1"
      },
      "execution_count": null,
      "outputs": []
    },
    {
      "cell_type": "code",
      "source": [
        "\n",
        "n = 4\n",
        "\n",
        "input_txt = '''0->4:11\n",
        "1->4:2\n",
        "2->5:6\n",
        "3->5:7\n",
        "4->0:11\n",
        "4->1:2\n",
        "4->5:4\n",
        "5->4:4\n",
        "5->3:7\n",
        "5->2:6'''.replace('->',' ').replace(':',' ').split()\n",
        "\n",
        "\n",
        "weighted_edge_list = [(u,v,int(w)) for u,v,w in zip(input_txt[::3], input_txt[1::3], input_txt[2::3]) ]\n",
        "\n",
        "dist = dist_matr(weighted_edge_list)\n",
        "print('\\n'.join([' '.join([str(d) for d in row]) for row in dist]))\n",
        "\n"
      ],
      "metadata": {
        "colab": {
          "base_uri": "https://localhost:8080/"
        },
        "id": "43jzbItmfBB8",
        "outputId": "3a72d6a4-37c1-4702-baeb-5b3bf88e06b0"
      },
      "execution_count": null,
      "outputs": [
        {
          "output_type": "stream",
          "name": "stdout",
          "text": [
            "0 13 21 22\n",
            "13 0 12 13\n",
            "21 12 0 13\n",
            "22 13 13 0\n"
          ]
        }
      ]
    },
    {
      "cell_type": "markdown",
      "source": [
        "## BA7B : Compute Limb Lengths in a Tree"
      ],
      "metadata": {
        "id": "i0oWzsAMkwYP"
      }
    },
    {
      "cell_type": "code",
      "source": [
        "import numpy as np\n",
        "import itertools as it\n",
        "\n",
        "def limb_length(dist_m,n,i):\n",
        "  return min((dist_m[i,j] + dist_m[i,k] - dist_m[j,k])//2 for j,k in \n",
        "             it.combinations(it.chain(range(i),range(i+1,n)),2))\n",
        "\n",
        "\n",
        "n = 4\n",
        "i = 1\n",
        "\n",
        "input_matrix = '''0   13  21  22\n",
        "13  0   12  13\n",
        "21  12  0   13\n",
        "22  13  13  0'''\n",
        "\n",
        "dist_m = np.fromstring(input_matrix,dtype = int,sep = ' ').reshape(n,n)\n",
        "limb_length(dist_m,n,i)\n"
      ],
      "metadata": {
        "colab": {
          "base_uri": "https://localhost:8080/"
        },
        "id": "PCVTbR9ek5Nu",
        "outputId": "862c334c-6a81-4acd-ddab-4eb144204d0b"
      },
      "execution_count": null,
      "outputs": [
        {
          "output_type": "execute_result",
          "data": {
            "text/plain": [
              "2"
            ]
          },
          "metadata": {},
          "execution_count": 34
        }
      ]
    },
    {
      "cell_type": "markdown",
      "source": [
        "## BA7C : Implement AdditivePhylogeny"
      ],
      "metadata": {
        "id": "BT5JTqWipi6I"
      }
    },
    {
      "cell_type": "code",
      "source": [
        "def parent_dist(dm,n):\n",
        "    for i,k in it.combinations(range(n-1),2):\n",
        "        if dm[i,k]==dm[i,n-1]+dm[n-1,k]:\n",
        "            return i,k\n",
        "    return 0,0\n",
        "def additive_phylogeny(dm,n):\n",
        "    def additive_phylogeny_r(dm,n,v):\n",
        "        if n==2:\n",
        "            return {0:{1:dm[0,1]},1:{0:dm[1,0]}}\n",
        "        limb_len = limb_length(dm,n,n-1)\n",
        "        dm[n-1],dm[:,n-1] = dm[n-1]-limb_len,dm[:,n-1]-limb_len\n",
        "        i,k = parent_dist(dm,n)\n",
        "        x = dm[i,n-1]\n",
        "        tree = additive_phylogeny_r(np.delete(np.delete(dm,n-1,1),n-1,0),n-1,v+1)\n",
        "        path = nx.shortest_path(nx.Graph(tree),i,k)\n",
        "        dist,pathi = 0,0\n",
        "        while tree[path[pathi]][path[pathi+1]]+dist<x:\n",
        "            dist += tree[path[pathi]][path[pathi+1]]\n",
        "            pathi += 1\n",
        "        i,k,x = path[pathi],path[pathi+1],x-dist\n",
        "        if x==0: v=k\n",
        "        tree[i][v],tree[k][v] = x,tree[i][k]-x\n",
        "        del tree[i][k]\n",
        "        del tree[k][i]\n",
        "        tree[n-1] = {v:limb_len}\n",
        "        tree[v] = {n-1:limb_len,i:x,k:tree[k][v]}\n",
        "        return tree\n",
        "    return additive_phylogeny_r(dm,n,n)\n",
        "\n",
        "n = 4\n",
        "input_str = '''0   13  21  22\n",
        "13  0   12  13\n",
        "21  12  0   13\n",
        "22  13  13  0'''\n",
        "dm = np.fromstring(input_str,dtype=int,sep=' ').reshape(n,n)\n",
        "phylo_tree = additive_phylogeny(dm,n)\n",
        "print('\\n'.join(f'{key}->{val}:{weight}' for key,value in sorted(phylo_tree.items()) for val,weight in value.items()))"
      ],
      "metadata": {
        "colab": {
          "base_uri": "https://localhost:8080/"
        },
        "id": "V9nYUlSMneaY",
        "outputId": "84ba913a-438c-4f98-b797-9ed53d604e3f"
      },
      "execution_count": null,
      "outputs": [
        {
          "output_type": "stream",
          "name": "stdout",
          "text": [
            "0->5:11\n",
            "1->5:2\n",
            "2->4:6\n",
            "3->4:7\n",
            "4->3:7\n",
            "4->5:4\n",
            "4->2:6\n",
            "5->0:11\n",
            "5->1:2\n",
            "5->4:4\n"
          ]
        }
      ]
    }
  ]
}