{
  "nbformat": 4,
  "nbformat_minor": 0,
  "metadata": {
    "colab": {
      "provenance": [],
      "authorship_tag": "ABX9TyPn3LNjAAPYEAgXtvTCA6j8",
      "include_colab_link": true
    },
    "kernelspec": {
      "name": "python3",
      "display_name": "Python 3"
    },
    "language_info": {
      "name": "python"
    }
  },
  "cells": [
    {
      "cell_type": "markdown",
      "metadata": {
        "id": "view-in-github",
        "colab_type": "text"
      },
      "source": [
        "<a href=\"https://colab.research.google.com/github/ABHISHEK-DEY-64150/Bioinformatics/blob/main/2017_CSE470_2017331021_E03.ipynb\" target=\"_parent\"><img src=\"https://colab.research.google.com/assets/colab-badge.svg\" alt=\"Open In Colab\"/></a>"
      ]
    },
    {
      "cell_type": "code",
      "source": [
        "! pip install numpy"
      ],
      "metadata": {
        "colab": {
          "base_uri": "https://localhost:8080/"
        },
        "id": "ncA89Wm5dl5h",
        "outputId": "776f3f82-4e44-4bab-d6da-1129126312d3"
      },
      "execution_count": null,
      "outputs": [
        {
          "output_type": "stream",
          "name": "stdout",
          "text": [
            "Looking in indexes: https://pypi.org/simple, https://us-python.pkg.dev/colab-wheels/public/simple/\n",
            "Requirement already satisfied: numpy in /usr/local/lib/python3.7/dist-packages (1.21.6)\n"
          ]
        }
      ]
    },
    {
      "cell_type": "markdown",
      "source": [
        "# BA1A: Compute the number of times a Pattern Appears in a Text"
      ],
      "metadata": {
        "id": "hZrjRLRNJ2Dk"
      }
    },
    {
      "cell_type": "code",
      "source": [
        "def PatternCount(Text, Pattern):\n",
        "        count = 0\n",
        "        for i in range(len(Text)-len(Pattern)+1):\n",
        "            if Text[i:i+len(Pattern)] == Pattern:\n",
        "                count = count + 1\n",
        "        return count\n",
        "\n",
        "print(PatternCount(\"AAATTACGCATAGCATAGCAATA\",\"ATA\"))"
      ],
      "metadata": {
        "colab": {
          "base_uri": "https://localhost:8080/"
        },
        "id": "yZhdi2MvJ_nn",
        "outputId": "b2014f04-1d19-4bbf-b52d-821a4edf803e"
      },
      "execution_count": null,
      "outputs": [
        {
          "output_type": "stream",
          "name": "stdout",
          "text": [
            "3\n"
          ]
        }
      ]
    },
    {
      "cell_type": "markdown",
      "source": [
        "#BA1B : Find the most Frequent Word in a string"
      ],
      "metadata": {
        "id": "l9kQXfGRP-6s"
      }
    },
    {
      "cell_type": "code",
      "source": [
        "from collections import Counter\n",
        "\n",
        "def most_freq_words(seq,k):\n",
        "  kmers = Counter([seq[i:i+k] for i in range(len(seq)-k+1)]).most_common()\n",
        "  return [kmer[0] for kmer in kmers if kmers[0][1] == kmer[1]]\n",
        "\n",
        "seq = \"ACGTTGCATGTCGCATGATGCATGAGAGCT\" \n",
        "k = 4\n",
        "\n",
        "most_freq_words(seq,k)\n"
      ],
      "metadata": {
        "colab": {
          "base_uri": "https://localhost:8080/"
        },
        "id": "OxWyhkthQQX_",
        "outputId": "79bf274f-48d0-4798-80fd-b2f830ec93cd"
      },
      "execution_count": null,
      "outputs": [
        {
          "output_type": "execute_result",
          "data": {
            "text/plain": [
              "['GCAT', 'CATG']"
            ]
          },
          "metadata": {},
          "execution_count": 33
        }
      ]
    },
    {
      "cell_type": "markdown",
      "source": [
        "# BA1D : Find All Occurrences of a Pattern in a String"
      ],
      "metadata": {
        "id": "rFjWQCdbSatj"
      }
    },
    {
      "cell_type": "code",
      "source": [
        "def find_all_loc(seq,kmer):\n",
        "  loc = 0\n",
        "  while True:\n",
        "    loc = seq.find(kmer,loc) + 1\n",
        "    if loc>0:\n",
        "      yield loc-1\n",
        "    else:\n",
        "      return loc - 1\n",
        "\n",
        "\n",
        "kmer = \"ATAT\"\n",
        "seq = \"GATATATGCATATACTT\"\n",
        "\n",
        "print(' '.join(map(str,find_all_loc(seq,kmer))))"
      ],
      "metadata": {
        "colab": {
          "base_uri": "https://localhost:8080/"
        },
        "id": "YzJi2Y7XTmDt",
        "outputId": "0160f87f-90f1-4de9-d291-7c7a3cb87f87"
      },
      "execution_count": null,
      "outputs": [
        {
          "output_type": "stream",
          "name": "stdout",
          "text": [
            "1 3 9\n"
          ]
        }
      ]
    },
    {
      "cell_type": "markdown",
      "source": [
        "#BA1E : Find Patterns Forming Clumps in a String"
      ],
      "metadata": {
        "id": "a_wCMTmoU4AH"
      }
    },
    {
      "cell_type": "code",
      "source": [
        "def find_clumping_kmers(seq,k,l,t):\n",
        "  clumping_kmers = set()\n",
        "  for i in range(len(seq)-l+1):\n",
        "    clump_seq = seq[i:i+l]\n",
        "    kmers = Counter([clump_seq[i:i+k] for i in range(len(seq) - k+1)]).most_common()\n",
        "    for kmer in kmers:\n",
        "      if kmer[1] >= t:\n",
        "        clumping_kmers.add(kmer[0])\n",
        "  return clumping_kmers\n",
        "\n",
        "seq = \"CGGACTCGACAGATGTGAAGAAATGTGAAGACTGAGTGAAGAGAAGAGGAAACACGACACGACATTGCGACATAATGTACGAATGTAATGTGCCTATGGC\"\n",
        "k,l,t = 5,75,4\n",
        "\n",
        "print(' '.join(find_clumping_kmers(seq,k,l,t)))"
      ],
      "metadata": {
        "colab": {
          "base_uri": "https://localhost:8080/"
        },
        "id": "a8WgA5VvVFqm",
        "outputId": "398ee899-2793-44c6-d244-b1f4b3d5fd3a"
      },
      "execution_count": null,
      "outputs": [
        {
          "output_type": "stream",
          "name": "stdout",
          "text": [
            " CGACA AATGT GAAGA\n"
          ]
        }
      ]
    },
    {
      "cell_type": "markdown",
      "source": [
        "#BA1F : Find a Position in a Genome Minimizing the Skew"
      ],
      "metadata": {
        "id": "xijzaVSvcaEu"
      }
    },
    {
      "cell_type": "code",
      "source": [
        "import numpy as np \n",
        "def skew_positions(seq):\n",
        "  d = {'A':0,'T':0,'G':1,'C':-1}\n",
        "  gc_cumsum = np.cumsum([d[bp] for bp in seq])\n",
        "  print(' '.join(map(str,np.where(gc_cumsum == min(gc_cumsum))[0]+1)))\n",
        "\n",
        "seq = \"CCTATCGGTGGATTAGCATGTCCCTGTACGTTTCGCCGCGAACTAGTTCACACGGCTTGATGGCAAATGGTTTTTCCGGCGACCGTAATCGTCCACCGAG\"\n",
        "skew_positions(seq)"
      ],
      "metadata": {
        "colab": {
          "base_uri": "https://localhost:8080/"
        },
        "id": "GcWsclfdcjQX",
        "outputId": "f97d731c-2dbc-489d-d601-2620069deb2b"
      },
      "execution_count": null,
      "outputs": [
        {
          "output_type": "stream",
          "name": "stdout",
          "text": [
            "53 97\n"
          ]
        }
      ]
    },
    {
      "cell_type": "code",
      "source": [
        "import matplotlib.pyplot as plt\n",
        "\n",
        "def skew_diagram(seq):\n",
        "    d = {'A':0,'T':0,'G':1,'C':-1}\n",
        "    plt.plot( np.cumsum([d[bp] for bp in seq]))\n",
        "    plt.xticks(range(len(seq)),seq)\n",
        "    plt.grid()\n",
        "    plt.show()\n",
        "\n",
        "\n",
        "seq = \"AGAGTGCCTACCGGAAGGT\"\n",
        "#seq = \"CCTATCGGTGGATTAGCATGTCCCTGTACGTTTCGCCGCGAACTAGTTCACACGGCTTGATGGCAAATGGTTTTTCCGGCGACCGTAATCGTCCACCGAG\"\n",
        "\n",
        "skew_diagram(seq)"
      ],
      "metadata": {
        "colab": {
          "base_uri": "https://localhost:8080/",
          "height": 265
        },
        "id": "PNxRzuK7f4n4",
        "outputId": "40d79c36-47a4-42a2-c4af-a4e0bb6433fc"
      },
      "execution_count": null,
      "outputs": [
        {
          "output_type": "display_data",
          "data": {
            "text/plain": [
              "<Figure size 432x288 with 1 Axes>"
            ],
            "image/png": "[encoded data removed]"
          },
          "metadata": {
            "needs_background": "light"
          }
        }
      ]
    },
    {
      "cell_type": "markdown",
      "source": [
        "#BA1G : Compute the Hamming Distance Between Two Strings"
      ],
      "metadata": {
        "id": "5_kxjsXGi9g3"
      }
    },
    {
      "cell_type": "code",
      "source": [
        "def hamming_dist(seq1,seq2):\n",
        "    count = 0\n",
        "    for i in range(len(seq1)):\n",
        "      if seq1[i] != seq2[i] :\n",
        "        count += 1 \n",
        "\n",
        "    return count\n",
        "\n",
        "seq1 = \"GGGCCGTTGGT\" \n",
        "seq2 = \"GGACCGTTGAC\"  \n",
        "\n",
        "print(hamming_dist(seq1,seq2))"
      ],
      "metadata": {
        "colab": {
          "base_uri": "https://localhost:8080/"
        },
        "id": "9zmKkbcGjNQK",
        "outputId": "41b642d8-b33d-4302-8fe6-a184634cae22"
      },
      "execution_count": null,
      "outputs": [
        {
          "output_type": "stream",
          "name": "stdout",
          "text": [
            "3\n"
          ]
        }
      ]
    },
    {
      "cell_type": "markdown",
      "source": [
        "#BA1H : Find All Approximate Occurrences of a Pattern in a String"
      ],
      "metadata": {
        "id": "EXBeDhDpkjMa"
      }
    },
    {
      "cell_type": "code",
      "source": [
        "def find_all_approx_loc(seq,kmer,d):\n",
        "    positions = []\n",
        "\n",
        "    for i in range(len(seq)-len(kmer)+1):\n",
        "        if hamming_dist(kmer,seq[i:i+len(kmer)]) <= d :\n",
        "          positions.append(i)\n",
        "\n",
        "    return positions\n",
        "\n",
        "\n",
        "seq = \"CGCCCGAATCCAGAACGCATTCCCATATTTCGGGACCACTGGCCTCCACGGTACGGACGTCAATCAAATGCCTAGCGGCTTGTGGTTTCTCCTACGCTCC\"\n",
        "kmer = \"ATTCTGGA\"\n",
        "d = 3\n",
        "\n",
        "find_all_approx_loc(seq,kmer,d)"
      ],
      "metadata": {
        "colab": {
          "base_uri": "https://localhost:8080/"
        },
        "id": "ABPl3gp4kqWd",
        "outputId": "dfc5c851-de0f-4200-8c39-7086cea38039"
      },
      "execution_count": null,
      "outputs": [
        {
          "output_type": "execute_result",
          "data": {
            "text/plain": [
              "[6, 7, 26, 27, 78]"
            ]
          },
          "metadata": {},
          "execution_count": 39
        }
      ]
    }
  ]
}