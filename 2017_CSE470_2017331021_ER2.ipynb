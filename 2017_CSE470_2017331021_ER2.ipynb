{
  "nbformat": 4,
  "nbformat_minor": 0,
  "metadata": {
    "colab": {
      "provenance": [],
      "authorship_tag": "ABX9TyOyan71diiYjwAXVYuo/veJ",
      "include_colab_link": true
    },
    "kernelspec": {
      "name": "python3",
      "display_name": "Python 3"
    },
    "language_info": {
      "name": "python"
    }
  },
  "cells": [
    {
      "cell_type": "markdown",
      "metadata": {
        "id": "view-in-github",
        "colab_type": "text"
      },
      "source": [
        "<a href=\"https://colab.research.google.com/github/ABHISHEK-DEY-64150/Bioinformatics/blob/main/2017_CSE470_2017331021_ER2.ipynb\" target=\"_parent\"><img src=\"https://colab.research.google.com/assets/colab-badge.svg\" alt=\"Open In Colab\"/></a>"
      ]
    },
    {
      "cell_type": "markdown",
      "source": [
        "## Task 01: BA4J --> Generate the Theoretical Spectrum of a Linear Peptide"
      ],
      "metadata": {
        "id": "agmeZPwvtkHC"
      }
    },
    {
      "cell_type": "code",
      "source": [
        "def get_peptide_mass_dict():\n",
        "\n",
        "  peptide = ['G','A','S','P','V','T','C','I','L','N','D','K','Q','E','M','H','F','R','Y','W']\n",
        "\n",
        "  mass = [57,71,87,97,99,101,103,113,113,114,115,128,128,129,131,137,147,156,163,186]\n",
        "  \n",
        "  return dict(zip(peptide,mass))\n",
        "\n",
        "peptide_mass = get_peptide_mass_dict()\n",
        "\n",
        "peptide_mass  "
      ],
      "metadata": {
        "colab": {
          "base_uri": "https://localhost:8080/"
        },
        "id": "5zHWd_WSyBzQ",
        "outputId": "532c2fbd-9cf1-49c3-d0bc-573461bb108a"
      },
      "execution_count": null,
      "outputs": [
        {
          "output_type": "execute_result",
          "data": {
            "text/plain": [
              "{'G': 57,\n",
              " 'A': 71,\n",
              " 'S': 87,\n",
              " 'P': 97,\n",
              " 'V': 99,\n",
              " 'T': 101,\n",
              " 'C': 103,\n",
              " 'I': 113,\n",
              " 'L': 113,\n",
              " 'N': 114,\n",
              " 'D': 115,\n",
              " 'K': 128,\n",
              " 'Q': 128,\n",
              " 'E': 129,\n",
              " 'M': 131,\n",
              " 'H': 137,\n",
              " 'F': 147,\n",
              " 'R': 156,\n",
              " 'Y': 163,\n",
              " 'W': 186}"
            ]
          },
          "metadata": {},
          "execution_count": 92
        }
      ]
    },
    {
      "cell_type": "code",
      "source": [
        "def get_peptide_mass(peptide, masses):\n",
        "    mass = 0\n",
        "    for i in range(len(peptide)):\n",
        "        mass += masses[peptide[i]]\n",
        "\n",
        "    return mass\n",
        "\n",
        "\n",
        "\n",
        "def gen_Linear_spectrum(peptide):\n",
        "    masses = get_peptide_mass_dict()\n",
        "    spectrum = [0]\n",
        "    block_len = 1\n",
        "    peptide_len = len(peptide)\n",
        "    while block_len < peptide_len:\n",
        "        start = 0\n",
        "        while start + block_len <= peptide_len:\n",
        "            spectrum.append(get_peptide_mass(peptide[start:start+block_len], masses))\n",
        "            start += 1\n",
        "        block_len += 1\n",
        "\n",
        "    spectrum.append(get_peptide_mass(peptide, masses))\n",
        "\n",
        "    return sorted(spectrum)"
      ],
      "metadata": {
        "id": "BDMxd_SC0gFs"
      },
      "execution_count": null,
      "outputs": []
    },
    {
      "cell_type": "code",
      "source": [
        "peptide = 'NQEL'\n",
        "\n",
        "gen_Linear_spectrum(peptide)"
      ],
      "metadata": {
        "colab": {
          "base_uri": "https://localhost:8080/"
        },
        "id": "CJ-Rli0E3Qq4",
        "outputId": "4bc426fe-a84a-41ed-f597-8e8fb4729d5f"
      },
      "execution_count": null,
      "outputs": [
        {
          "output_type": "execute_result",
          "data": {
            "text/plain": [
              "[0, 113, 114, 128, 129, 242, 242, 257, 370, 371, 484]"
            ]
          },
          "metadata": {},
          "execution_count": 94
        }
      ]
    },
    {
      "cell_type": "markdown",
      "source": [
        "## Task 02: BA4K --> Compute the Score of a Linear Peptide"
      ],
      "metadata": {
        "id": "p_1_Vk3r36NB"
      }
    },
    {
      "cell_type": "code",
      "source": [
        "def linear_score(peptide, spectrum):\n",
        "    pep_spec = gen_Linear_spectrum(peptide)\n",
        "    result = 0\n",
        "    unique_masses = set(pep_spec + spectrum)\n",
        "    for mass in unique_masses:\n",
        "        result += min(pep_spec.count(mass), spectrum.count(mass))\n",
        "    return result  "
      ],
      "metadata": {
        "id": "vGZBPrRs4F6D"
      },
      "execution_count": null,
      "outputs": []
    },
    {
      "cell_type": "code",
      "source": [
        "peptide = 'NQEL'\n",
        "\n",
        "exp_spec = [0 ,99 ,113 ,114 ,128 ,227, 257, 299, 355 ,356 ,370 ,371 ,484]\n",
        "\n",
        "score = linear_score(peptide,exp_spec)\n",
        "\n",
        "score"
      ],
      "metadata": {
        "colab": {
          "base_uri": "https://localhost:8080/"
        },
        "id": "tkf4D3JS7MB6",
        "outputId": "cd0ff181-7b0f-41fc-d626-19ef7ac423f9"
      },
      "execution_count": null,
      "outputs": [
        {
          "output_type": "execute_result",
          "data": {
            "text/plain": [
              "8"
            ]
          },
          "metadata": {},
          "execution_count": 96
        }
      ]
    },
    {
      "cell_type": "markdown",
      "source": [
        "## Task 03: BA4E --> Find a Cyclic Peptide with Theoretical Spectrum Matching an Ideal Spectrum"
      ],
      "metadata": {
        "id": "xNp5xEEZ72I-"
      }
    },
    {
      "cell_type": "code",
      "source": [
        "\n",
        "import sys\n",
        "masses = [57, 71, 87, 97, 99, 101, 103, 113, 114, 115, 128, 129, 131, 137, 147, 156, 163, 186]\n",
        "\n",
        "def cyclo_spectrum_mass_peptide(peptide):\n",
        "    spectrum  = [0, sum(peptide)]\n",
        "    temp = peptide + peptide\n",
        "    for k in range(1, len(peptide)):\n",
        "        for i in range(len(peptide)):\n",
        "            subpeptide = temp[i:i + k]\n",
        "            spectrum .append(sum(subpeptide))\n",
        "    spectrum .sort()\n",
        "    return spectrum \n",
        "\n",
        "def LinearSpectrum(Peptide):\n",
        "    PrefixMass = [0]\n",
        "    for i in range(len(Peptide)):\n",
        "        temp = PrefixMass[i] + Peptide[i]\n",
        "        PrefixMass.append(temp)\n",
        "    LinearSpectrum = [0]\n",
        "    for i in range(len(Peptide)):\n",
        "        for j in range(i + 1, len(Peptide) + 1):\n",
        "            LinearSpectrum.append(PrefixMass[j] - PrefixMass[i])\n",
        "    LinearSpectrum.sort()\n",
        "    return LinearSpectrum\n",
        "\n",
        "\n",
        "def expand(peptides):\n",
        "    new_peptides = []\n",
        "    for pep in peptides:\n",
        "        for mass in masses:\n",
        "            new_peptides.append(pep + [mass])\n",
        "    return new_peptides   \n",
        "\n",
        "def Consistent(Peptide, Spectrum):\n",
        "    if sum(Peptide) > Spectrum[-1] - masses[0]:\n",
        "        return False\n",
        "    spec = LinearSpectrum(Peptide)\n",
        "    for mass in spec:\n",
        "        if mass not in Spectrum:\n",
        "            return False\n",
        "    return True    \n",
        "\n",
        "\n",
        "def cyclopeptide_sequencing(spectrum):\n",
        "    result = set()\n",
        "    peptides = [[]]\n",
        "    while peptides:\n",
        "        peptides = expand(peptides)\n",
        "        for peptide in peptides:\n",
        "            if sum(peptide) == spectrum[-1]:\n",
        "                if cyclo_spectrum_mass_peptide(peptide) == spectrum:\n",
        "                    result.add(\"-\".join(map(str, peptide)))\n",
        "                peptides = [pep for pep in peptides if pep != peptide]\n",
        "            elif not Consistent(peptide, spectrum):\n",
        "                peptides = [pep for pep in peptides if pep != peptide]\n",
        "    return result\n",
        "\n",
        "\n",
        "\n",
        "spectrum = [0 ,113 ,128 ,186 ,241, 299 ,314, 427]\n",
        "\n",
        "cyclo_peptide_seq = cyclopeptide_sequencing(spectrum)\n",
        "\n",
        "for item in cyclo_peptide_seq:\n",
        "  print(item,end= ' ')"
      ],
      "metadata": {
        "colab": {
          "base_uri": "https://localhost:8080/"
        },
        "id": "s3vEPbQ0SHFE",
        "outputId": "9c22d770-efb7-4840-be75-4ae2da33c3f1"
      },
      "execution_count": null,
      "outputs": [
        {
          "output_type": "stream",
          "name": "stdout",
          "text": [
            "113-186-128 113-128-186 128-186-113 128-113-186 186-128-113 186-113-128 "
          ]
        }
      ]
    },
    {
      "cell_type": "markdown",
      "source": [
        "## Task 04: BA4F --> Compute the Score of a Cyclic Peptide Against a Spectrum"
      ],
      "metadata": {
        "id": "-nEHw2hMTIsY"
      }
    },
    {
      "cell_type": "code",
      "source": [
        "def circular_string(start, length, string):\n",
        "    if start >= len(string):\n",
        "        return\n",
        "\n",
        "    if start + length <= len(string):\n",
        "        return string[start: start + length]\n",
        "    else:\n",
        "        answer = string[start:]\n",
        "        answer += string[:(start + length) % (len(string))]\n",
        "        return answer\n",
        "\n",
        "\n",
        "def generate_spectrum_cyclic(peptide):\n",
        "    masses = get_peptide_mass_dict()\n",
        "    spectrum = [0]\n",
        "    block_len = 1\n",
        "    peptide_len = len(peptide)\n",
        "    while block_len < len(peptide):\n",
        "        start = 0\n",
        "        while start < peptide_len:\n",
        "            spectrum.append(get_peptide_mass(circular_string(start, block_len, peptide), masses))\n",
        "            start += 1\n",
        "\n",
        "        block_len += 1\n",
        "\n",
        "    spectrum.append(get_peptide_mass(peptide, masses))\n",
        "    return sorted(spectrum)\n",
        "\n",
        "\n",
        "\n",
        "def Compute_score_cyclic(theoret_spect, exper_spect):\n",
        "    score = 0\n",
        "    for item in theoret_spect:\n",
        "        if item in exper_spect:\n",
        "            score += 1\n",
        "            exper_spect.remove(item)\n",
        "    return score\n",
        "\n",
        "\n",
        "\n",
        "peptide = 'NQEL'\n",
        "\n",
        "exp_spec = [0 ,99, 113, 114, 128 ,227 ,257 ,299 ,355, 356 ,370, 371 ,484]\n",
        "\n",
        "theo_Spectrum = generate_spectrum_cyclic(peptide)\n",
        "\n",
        "score = Compute_score_cyclic(theo_Spectrum,exp_spec)\n",
        "\n",
        "score\n"
      ],
      "metadata": {
        "colab": {
          "base_uri": "https://localhost:8080/"
        },
        "id": "HAifmQltTVSk",
        "outputId": "27f2f35c-7113-468e-bc19-7f3b3df1c56f"
      },
      "execution_count": null,
      "outputs": [
        {
          "output_type": "execute_result",
          "data": {
            "text/plain": [
              "11"
            ]
          },
          "metadata": {},
          "execution_count": 98
        }
      ]
    },
    {
      "cell_type": "markdown",
      "source": [
        "## Task 05: BA4L --> Trim a Peptide Leaderboard"
      ],
      "metadata": {
        "id": "bUqL7qzGWaxd"
      }
    },
    {
      "cell_type": "code",
      "source": [
        "\n",
        "def Trim(leaderboard, spectrum, N):\n",
        "    if len(leaderboard) <= N:\n",
        "        return leaderboard\n",
        "\n",
        "    scores = {}\n",
        "    for i, peptide in enumerate(leaderboard):\n",
        "        spec = spectrum\n",
        "        scores[i] = Compute_score(peptide, spec)\n",
        "\n",
        "    sorted_scores = sorted(scores.values(), reverse=True)\n",
        "    threshold = sorted_scores[N - 1]\n",
        "\n",
        "    return [leaderboard[idx] for idx, score in scores.items() if score >= threshold]\n",
        "\n",
        "leaderboard = [ 'ALST' ,'LAST','TLLT', 'TQAS'] \n",
        "spectrum = [0 ,71 ,87 ,101, 113, 158 ,184, 188, 259 ,271 ,372]\n",
        "\n",
        "print(Trim(leaderboard,spectrum,2))\n",
        "\n"
      ],
      "metadata": {
        "colab": {
          "base_uri": "https://localhost:8080/"
        },
        "id": "Fcq0JipCWnFm",
        "outputId": "6a5134d8-f0a0-4603-dc83-d04faa72f488"
      },
      "execution_count": null,
      "outputs": [
        {
          "output_type": "stream",
          "name": "stdout",
          "text": [
            "['ALST', 'LAST']\n"
          ]
        }
      ]
    },
    {
      "cell_type": "markdown",
      "source": [
        "## Task 07: BA4H --> Generate the Convolution of a Spectrum"
      ],
      "metadata": {
        "id": "S5XDTBXzW-rL"
      }
    },
    {
      "cell_type": "code",
      "source": [
        "import operator\n",
        "\n",
        "def gen_convolution(spectrum):\n",
        "    convolution_dict = dict()\n",
        "    for i in range(1, len(spectrum)):\n",
        "        for j in range(i):\n",
        "            if spectrum[i] == spectrum[j]:\n",
        "                continue\n",
        "\n",
        "            diff = abs(spectrum[i] - spectrum[j])\n",
        "            if diff in convolution_dict:\n",
        "                convolution_dict[diff] += 1\n",
        "            else:\n",
        "                convolution_dict[diff] = 1\n",
        "\n",
        "    sorted_convolutional_dict = sorted(convolution_dict.items(), key=operator.itemgetter(1))\n",
        "    return sorted_convolutional_dict[::-1]\n",
        "\n",
        "\n",
        "\n",
        "\n",
        "spectrum = [0 ,137 ,186 ,323]\n",
        "\n",
        "conv = gen_convolution(spectrum)\n",
        "\n",
        "for p,q in conv:\n",
        "  n = q\n",
        "  i=1\n",
        "  while(i<=n):\n",
        "    print(p,end =\" \")\n",
        "    i+=1"
      ],
      "metadata": {
        "id": "m6EQVb6ZXJJw",
        "colab": {
          "base_uri": "https://localhost:8080/"
        },
        "outputId": "074a478b-9dcf-4bf4-933c-20698bf9848b"
      },
      "execution_count": null,
      "outputs": [
        {
          "output_type": "stream",
          "name": "stdout",
          "text": [
            "186 186 137 137 323 49 "
          ]
        }
      ]
    }
  ]
}