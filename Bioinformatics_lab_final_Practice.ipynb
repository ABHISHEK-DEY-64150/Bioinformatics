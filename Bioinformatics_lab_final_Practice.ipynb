{
  "cells": [
    {
      "cell_type": "markdown",
      "metadata": {
        "id": "view-in-github",
        "colab_type": "text"
      },
      "source": [
        "<a href=\"https://colab.research.google.com/github/ABHISHEK-DEY-64150/Bioinformatics/blob/main/Bioinformatics_lab_final_Practice.ipynb\" target=\"_parent\"><img src=\"https://colab.research.google.com/assets/colab-badge.svg\" alt=\"Open In Colab\"/></a>"
      ]
    },
    {
      "cell_type": "markdown",
      "metadata": {
        "id": "uS-mbcfFiDEU"
      },
      "source": [
        "## BA1A : Compute the Number of Times a Pattern Appears in a Text"
      ]
    },
    {
      "cell_type": "code",
      "execution_count": 1,
      "metadata": {
        "colab": {
          "base_uri": "https://localhost:8080/"
        },
        "id": "ioLqObSjiIbW",
        "outputId": "8d52a9e2-a224-4d70-9203-ccef64c27fe6"
      },
      "outputs": [
        {
          "output_type": "execute_result",
          "data": {
            "text/plain": [
              "3"
            ]
          },
          "metadata": {},
          "execution_count": 1
        }
      ],
      "source": [
        "def Occurances(text,patt):\n",
        "  count = 0;\n",
        "  for i in range(len(text)-len(patt) + 1):\n",
        "    if(text[i:i+len(patt)] == patt):\n",
        "      count +=1\n",
        "\n",
        "  return count\n",
        "\n",
        "\n",
        "text = \"ACAACTATGCATACTATCGGGAACTATCCT\"\n",
        "patt = \"ACTAT\"\n",
        "\n",
        "Occurances(text,patt)"
      ]
    },
    {
      "cell_type": "markdown",
      "metadata": {
        "id": "f7AWLcyljBru"
      },
      "source": [
        "## BA1B : Find the most Frequent Word in a string"
      ]
    },
    {
      "cell_type": "code",
      "execution_count": 2,
      "metadata": {
        "colab": {
          "base_uri": "https://localhost:8080/"
        },
        "id": "bl2iVen8is1U",
        "outputId": "74da182e-5c4c-4c9e-c94f-0b0150b253f8"
      },
      "outputs": [
        {
          "output_type": "execute_result",
          "data": {
            "text/plain": [
              "['GCAT', 'CATG']"
            ]
          },
          "metadata": {},
          "execution_count": 2
        }
      ],
      "source": [
        "def mostFrequentWord(text,k):\n",
        "  freq_word = []\n",
        "  freq_words = {}\n",
        "  for i in range(len(text)-k+1):\n",
        "    if (text[i:i+k] not in freq_words):\n",
        "      freq_words[text[i:i+k]] = 1\n",
        "    else:\n",
        "      freq_words[text[i:i+k]] += 1\n",
        "  most_freq = max(freq_words.values())\n",
        "  for k,v in freq_words.items():\n",
        "    if v == most_freq :\n",
        "      freq_word.append(k)\n",
        "\n",
        "  return freq_word\n",
        "\n",
        "\n",
        "text = \"ACGTTGCATGTCGCATGATGCATGAGAGCT\"\n",
        "k = 4\n",
        "\n",
        "# text = \"CGGAC\"\n",
        "# k = 4\n",
        "\n",
        "\n",
        "mostFrequentWord(text,k)\n"
      ]
    },
    {
      "cell_type": "markdown",
      "metadata": {
        "id": "gVL2JePentaa"
      },
      "source": [
        "## BA1C : Find the Reverse Complement of a String"
      ]
    },
    {
      "cell_type": "code",
      "execution_count": 3,
      "metadata": {
        "colab": {
          "base_uri": "https://localhost:8080/",
          "height": 36
        },
        "id": "EnuVU89bnocq",
        "outputId": "9c5539e7-268d-441e-c74c-f76459f328e0"
      },
      "outputs": [
        {
          "output_type": "execute_result",
          "data": {
            "text/plain": [
              "'ACCGGGTTTT'"
            ],
            "application/vnd.google.colaboratory.intrinsic+json": {
              "type": "string"
            }
          },
          "metadata": {},
          "execution_count": 3
        }
      ],
      "source": [
        "def reverse_complement(text):\n",
        "  dict_map = {'A':'T','G':'C','T':'A','C':'G'}\n",
        "  str = \"\"\n",
        "  for i in range(len(text)):\n",
        "    str+=dict_map[text[i]]\n",
        "\n",
        "  ans = \"\"\n",
        "  for i in range(len(str)-1,-1,-1):\n",
        "    ans+=str[i]\n",
        "\n",
        "  return ans\n",
        "\n",
        "text = \"AAAACCCGGT\"  \n",
        "reverse_complement(text)\n"
      ]
    },
    {
      "cell_type": "markdown",
      "metadata": {
        "id": "L8NimkagpFaE"
      },
      "source": [
        "## BA1D : Find All Occurrences of a Pattern in a String"
      ]
    },
    {
      "cell_type": "code",
      "execution_count": 4,
      "metadata": {
        "colab": {
          "base_uri": "https://localhost:8080/"
        },
        "id": "mzYZuLc6oziX",
        "outputId": "76585318-9320-406f-e4eb-0359f75787c9"
      },
      "outputs": [
        {
          "output_type": "execute_result",
          "data": {
            "text/plain": [
              "[1, 3, 9]"
            ]
          },
          "metadata": {},
          "execution_count": 4
        }
      ],
      "source": [
        "def allOccurances(text,patt):\n",
        "  index = []\n",
        "  for i in range(len(text)-len(patt)+1):\n",
        "    if(text[i:i+k] == patt):\n",
        "      index.append(i)\n",
        "\n",
        "  return index\n",
        "\n",
        "\n",
        "text = \"GATATATGCATATACTT\"\n",
        "patt = \"ATAT\"\n",
        "\n",
        "allOccurances(text,patt)\n"
      ]
    },
    {
      "cell_type": "markdown",
      "metadata": {
        "id": "DM70JWFGqOiJ"
      },
      "source": [
        "## BA1E : Find Patterns Forming Clumps in a String"
      ]
    },
    {
      "cell_type": "code",
      "execution_count": 5,
      "metadata": {
        "colab": {
          "base_uri": "https://localhost:8080/"
        },
        "id": "ChgtkDs7M4wR",
        "outputId": "12cc231e-6403-4699-dd8c-1306baf5ef3f"
      },
      "outputs": [
        {
          "output_type": "execute_result",
          "data": {
            "text/plain": [
              "{'AATGT', 'CGACA', 'GAAGA'}"
            ]
          },
          "metadata": {},
          "execution_count": 5
        }
      ],
      "source": [
        "\n",
        "def get_clumps (k,L,t,data):\n",
        "    ans = []\n",
        "    start = 0;\n",
        "    answer = set()\n",
        "    data_len = len(data)\n",
        "    while start + L <= data_len:\n",
        "          substr_dict = {}\n",
        "          window = data[start:start+L]\n",
        "          s = 0\n",
        "          window_len = len(window)\n",
        "          while (s + k <= window_len):\n",
        "                sub_window = window[s:s+k]\n",
        "                if sub_window not in substr_dict:\n",
        "                  substr_dict[sub_window] = 1\n",
        "                else:\n",
        "                  substr_dict[sub_window] += 1\n",
        "                s += 1\n",
        "          start += 1\n",
        "\n",
        "          answer_list = []\n",
        "          for key,val in substr_dict.items():\n",
        "            if val >= t:\n",
        "               answer_list.append(key)\n",
        "               \n",
        "          for item in answer_list:\n",
        "                  answer.add(item)\n",
        "    for item in answer:\n",
        "           ans.append(item)          \n",
        "\n",
        "\n",
        "    return answer            \n",
        "\n",
        "\n",
        "\n",
        "data = \"CGGACTCGACAGATGTGAAGAAATGTGAAGACTGAGTGAAGAGAAGAGGAAACACGACACGACATTGCGACATAATGTACGAATGTAATGTGCCTATGGC\"\n",
        "\n",
        "k,L,t = 5,75,4\n",
        "\n",
        "get_clumps(k, L, t, data)\n"
      ]
    },
    {
      "cell_type": "markdown",
      "metadata": {
        "id": "DyIMEenhB0c-"
      },
      "source": [
        "## BA1F : Find a Position in a Genome Minimizing the Skew"
      ]
    },
    {
      "cell_type": "code",
      "execution_count": 6,
      "metadata": {
        "colab": {
          "base_uri": "https://localhost:8080/",
          "height": 430
        },
        "id": "HvJHnfFgGab6",
        "outputId": "279d1fef-5239-4ee7-cebf-710aac78f714"
      },
      "outputs": [
        {
          "output_type": "display_data",
          "data": {
            "text/plain": [
              "<Figure size 640x480 with 1 Axes>"
            ],
            "image/png": "[encoded data removed]"
          },
          "metadata": {}
        }
      ],
      "source": [
        "import matplotlib.pyplot as plt\n",
        "\n",
        "\n",
        "def minSkew(text):\n",
        "  ans = []\n",
        "  count = 0\n",
        "  dna_dict = {}\n",
        "  for index in range(len(text)):\n",
        "    if text[index] == 'C':\n",
        "      count -=1\n",
        "      dna_dict[index+1] = count\n",
        "    elif text[index] == 'G':\n",
        "      count += 1\n",
        "      dna_dict[index+1] = count\n",
        "    else:\n",
        "      dna_dict[index+1] = count\n",
        "\n",
        "  min_val = min(dna_dict.values())\n",
        "  \n",
        "  for k,v in dna_dict.items():\n",
        "    if v == min_val:\n",
        "      ans.append(k)\n",
        "\n",
        "  return ans\n",
        "\n",
        "\n",
        "\n",
        "text = \"CCTATCGGTGGATTAGCATGTCCCTGTACGTTTCGCCGCGAACTAGTTCACACGGCTTGATGGCAAATGGTTTTTCCGGCGACCGTAATCGTCCACCGAG\"\n",
        "minSkew(text)\n",
        "\n",
        "\n",
        "\n",
        "## plot the skew diagram\n",
        "\n",
        "\n",
        "def skewdiagram(text):\n",
        "  x = []\n",
        "  y = []\n",
        "  count = 0\n",
        "  for i in range(len(text)):\n",
        "    if text[i]=='C':\n",
        "      count -= 1;\n",
        "      x.append(text[i])\n",
        "      y.append(count)\n",
        "    elif text[i] == 'G':\n",
        "      count += 1\n",
        "      x.append(text[i])\n",
        "      y.append(count)\n",
        "    else:\n",
        "      x.append(text[i])\n",
        "      y.append(count)\n",
        "    \n",
        "  plt.plot(y)\n",
        "  plt.xticks(range(len(text)),text)\n",
        "  plt.grid()\n",
        "  plt.show()    \n",
        "\n",
        "\n",
        "text = \"AGAGTGCCTACCGGAAGGT\"\n",
        "\n",
        "skewdiagram(text)\n",
        "\n",
        "\n",
        "        \n",
        "\n"
      ]
    },
    {
      "cell_type": "markdown",
      "metadata": {
        "id": "A634E8JULs46"
      },
      "source": [
        "## BA1G : Compute the Hamming Distance Between Two Strings"
      ]
    },
    {
      "cell_type": "code",
      "execution_count": 7,
      "metadata": {
        "colab": {
          "base_uri": "https://localhost:8080/"
        },
        "id": "t8YdKkHDLK2y",
        "outputId": "d424fafd-faae-48cf-8e89-cdd492fbd791"
      },
      "outputs": [
        {
          "output_type": "execute_result",
          "data": {
            "text/plain": [
              "3"
            ]
          },
          "metadata": {},
          "execution_count": 7
        }
      ],
      "source": [
        "def hamming_dist(text1,text2):\n",
        "  count = 0\n",
        "  for i in range(len(text1)):\n",
        "    if text1[i] != text2[i]:\n",
        "      count += 1\n",
        "\n",
        "\n",
        "  return count\n",
        "\n",
        "\n",
        "text1 = \"GGGCCGTTGGT\"\n",
        "text2 = \"GGACCGTTGAC\"\n",
        "\n",
        "\n",
        "hamming_dist(text1,text2)\n",
        "\n",
        "\n"
      ]
    },
    {
      "cell_type": "markdown",
      "metadata": {
        "id": "WE36OtQdMoUu"
      },
      "source": [
        "## BA1H : Find All Approximate Occurrences of a Pattern in a String"
      ]
    },
    {
      "cell_type": "code",
      "execution_count": 8,
      "metadata": {
        "colab": {
          "base_uri": "https://localhost:8080/"
        },
        "id": "GGpUJ_MgM9BU",
        "outputId": "625a092f-e237-4906-e8a9-0e3379323e12"
      },
      "outputs": [
        {
          "output_type": "execute_result",
          "data": {
            "text/plain": [
              "[6, 7, 26, 27, 78]"
            ]
          },
          "metadata": {},
          "execution_count": 8
        }
      ],
      "source": [
        "def Occ_with_mismatchees(text,patt,d):\n",
        "  ans = []\n",
        "  for i in range(len(text)-len(patt) +1):\n",
        "    window = text[i:i+len(patt)]\n",
        "    hamdist = hamming_dist(window,patt)  ## hamming_dist function used\n",
        "    if hamdist <= d:\n",
        "      ans.append(i)\n",
        "\n",
        "\n",
        "  return ans   \n",
        "\n",
        "\n",
        "text = \"CGCCCGAATCCAGAACGCATTCCCATATTTCGGGACCACTGGCCTCCACGGTACGGACGTCAATCAAATGCCTAGCGGCTTGTGGTTTCTCCTACGCTCC\"\n",
        "patt = \"ATTCTGGA\"\n",
        "d = 3\n",
        "\n",
        "Occ_with_mismatchees(text,patt,d)\n"
      ]
    },
    {
      "cell_type": "markdown",
      "metadata": {
        "id": "vnZ_um8yQ2Wf"
      },
      "source": [
        "## BA1I : Find the Most Frequent Words with Mismatches in a String"
      ]
    },
    {
      "cell_type": "code",
      "execution_count": 9,
      "metadata": {
        "colab": {
          "base_uri": "https://localhost:8080/"
        },
        "id": "IHQc-Yz9PptL",
        "outputId": "bb812550-81ea-4b38-ff1a-2a2e354e2d59"
      },
      "outputs": [
        {
          "output_type": "execute_result",
          "data": {
            "text/plain": [
              "['ATGT', 'GATG', 'ATGC']"
            ]
          },
          "metadata": {},
          "execution_count": 9
        }
      ],
      "source": [
        "\n",
        "def neighbour(pattern, mismatch):\n",
        "    words = set()\n",
        "    bases = ['A', 'T', 'G', 'C']\n",
        "    for i in range(len(pattern)):\n",
        "        for j in range(len(bases)):\n",
        "            new_pattern = pattern[:i] + bases[j] + pattern[i+1:]\n",
        "            if mismatch <= 1:\n",
        "                words.add(new_pattern)\n",
        "            else:\n",
        "                neighbour(new_pattern, mismatch - 1)\n",
        "    return words\n",
        "\n",
        "\n",
        "\n",
        "def mostFrequentWord_mismatches(text,k,d):\n",
        "    all_freq_words_mismatch = {}\n",
        "    ans = []\n",
        "\n",
        "    for i in range(len(text)-k+1):\n",
        "         FrequentWords = set()\n",
        "         FrequentWords = neighbour(text[i:i+k],d)\n",
        "        #  print(FrequentWords)\n",
        "         for word in FrequentWords:\n",
        "           if word not in all_freq_words_mismatch:\n",
        "               all_freq_words_mismatch[word] = 1\n",
        "           else:\n",
        "              all_freq_words_mismatch[word] += 1    \n",
        "\n",
        "    max_val = max(all_freq_words_mismatch.values())\n",
        "\n",
        "    for k,v in all_freq_words_mismatch.items():\n",
        "        if v == max_val:\n",
        "           ans.append(k)\n",
        "\n",
        "\n",
        "\n",
        "    return ans       \n",
        "\n",
        "\n",
        "text = \"ACGTTGCATGTCGCATGATGCATGAGAGCT\"\n",
        "\n",
        "k,d = 4,1\n",
        "\n",
        "\n",
        "mostFrequentWord_mismatches(text,k,d)\n",
        "\n",
        "\n",
        "\n"
      ]
    },
    {
      "cell_type": "markdown",
      "metadata": {
        "id": "D0aRdELyAdNG"
      },
      "source": [
        "## BA1J : Find Frequent Words with Mismatches and Reverse Complements"
      ]
    },
    {
      "cell_type": "code",
      "execution_count": 10,
      "metadata": {
        "colab": {
          "base_uri": "https://localhost:8080/"
        },
        "id": "YGh45e5w9T5R",
        "outputId": "621a8114-2708-4cf1-cbc2-79d4ee21906c"
      },
      "outputs": [
        {
          "output_type": "execute_result",
          "data": {
            "text/plain": [
              "{'ACAT', 'ATGT'}"
            ]
          },
          "metadata": {},
          "execution_count": 10
        }
      ],
      "source": [
        "def neighbour(patt,mismatch):\n",
        "    words = set()\n",
        "    bases = ['A', 'T', 'G', 'C']\n",
        "\n",
        "    for i in range(len(patt)):\n",
        "      for j in range(len(bases)):\n",
        "         new_patt = patt[:i] + bases[j] + patt[i+1:]\n",
        "         if mismatch <= 1:\n",
        "           words.add(new_patt)\n",
        "         else:\n",
        "           neighbour(new_patt,mismatch-1)\n",
        "\n",
        "\n",
        "    return words    \n",
        "\n",
        "def Freq_words_mismatch_reverse(text,k,d):\n",
        "    ans = set()\n",
        "    all_freq_words = {}\n",
        "\n",
        "    for i in range(len(text)-k+1):\n",
        "        patt = text[i:i+k]\n",
        "        words = neighbour(patt,d)\n",
        "        for word in words:\n",
        "            if word not in all_freq_words:\n",
        "                all_freq_words[word] = 1\n",
        "            else:\n",
        "                all_freq_words[word] += 1\n",
        "\n",
        "\n",
        "    for st in all_freq_words:\n",
        "        rev = reverse_complement(st) # reverse_complement function used\n",
        "        for i in range(len(text)-k+1):\n",
        "\n",
        "            if hamming_dist(text[i:i+k],rev) <= d : # hamming_dist function used\n",
        "              all_freq_words[st] += 1\n",
        "\n",
        "    max_val = max(all_freq_words.values())\n",
        "\n",
        "    for k,v in all_freq_words.items():\n",
        "        if v == max_val:\n",
        "           ans.add(k)\n",
        "           ans.add(reverse_complement(k))  # reverse_complement function used\n",
        "\n",
        "\n",
        "    return ans               \n",
        "\n",
        "\n",
        " \n",
        "\n",
        "text = \"ACGTTGCATGTCGCATGATGCATGAGAGCT\"\n",
        "\n",
        "k,d = 4,1  \n",
        "\n",
        "Freq_words_mismatch_reverse(text,k,d)\n",
        "\n",
        "          \n"
      ]
    },
    {
      "cell_type": "markdown",
      "metadata": {
        "id": "CGhMS4YOgnbY"
      },
      "source": [
        "## BA1k : Generate the Frequency Array of a String"
      ]
    },
    {
      "cell_type": "code",
      "execution_count": 11,
      "metadata": {
        "colab": {
          "base_uri": "https://localhost:8080/"
        },
        "id": "WOndGfMFgvId",
        "outputId": "7ba376d3-3aab-472d-d444-e38960a41c51"
      },
      "outputs": [
        {
          "output_type": "execute_result",
          "data": {
            "text/plain": [
              "[2, 1, 0, 0, 0, 0, 2, 2, 1, 2, 1, 0, 0, 1, 1, 0]"
            ]
          },
          "metadata": {},
          "execution_count": 11
        }
      ],
      "source": [
        "def genKmer(k):\n",
        "  bases = ['A','T','G','C']\n",
        "  array = bases\n",
        "  for n in range(k-1):\n",
        "     array = [i+j for i in array for j in bases]\n",
        "\n",
        "  return array\n",
        "\n",
        "\n",
        "# genKmer(2)  \n",
        "\n",
        "\n",
        "def patternFreq(text,patt):\n",
        "    count = 0\n",
        "    for i in range(len(text)-len(patt)+1):\n",
        "        window = text[i:i+k]\n",
        "        if window == patt:\n",
        "           count += 1\n",
        "\n",
        "\n",
        "    return count\n",
        "\n",
        "\n",
        "def FreqArray(text,k):\n",
        "    kmers = []\n",
        "    all_kmer = genKmer(k)\n",
        "    all_kmer.sort()\n",
        "    for i in all_kmer:\n",
        "        kmers.append(patternFreq(text,i))\n",
        "\n",
        "    return kmers    \n",
        "\n",
        "\n",
        "\n",
        "text =\"ACGCGGCTCTGAAA\"\n",
        "k=2\n",
        "\n",
        "FreqArray(text,k)\n",
        "\n"
      ]
    },
    {
      "cell_type": "markdown",
      "metadata": {
        "id": "ifb6x3vSqZv0"
      },
      "source": [
        "## BA1L : Implement PatternToNumber"
      ]
    },
    {
      "cell_type": "code",
      "execution_count": 12,
      "metadata": {
        "colab": {
          "base_uri": "https://localhost:8080/"
        },
        "id": "_PnMYFB1nPv1",
        "outputId": "625477e4-e401-424c-c41e-b41cbf76e3e5"
      },
      "outputs": [
        {
          "output_type": "execute_result",
          "data": {
            "text/plain": [
              "11"
            ]
          },
          "metadata": {},
          "execution_count": 12
        }
      ],
      "source": [
        "def pattToNum(patt):\n",
        "   dna_dict ={'A':0,'C':1,'G':2,'T':3}\n",
        "   num = 0\n",
        "   for i in range(len(patt)):\n",
        "       num+= dna_dict[patt[i]] * pow(4,len(patt)-i-1)\n",
        "\n",
        "   return num \n",
        "\n",
        "\n",
        "patt = \"AGT\"\n",
        "\n",
        "pattToNum(patt)"
      ]
    },
    {
      "cell_type": "markdown",
      "metadata": {
        "id": "RrhqiSkir8mF"
      },
      "source": [
        "## BA1M : Implement NumberToPattern"
      ]
    },
    {
      "cell_type": "code",
      "execution_count": 13,
      "metadata": {
        "colab": {
          "base_uri": "https://localhost:8080/",
          "height": 36
        },
        "id": "7BJwnJ6DrmHn",
        "outputId": "18ee7183-d613-461a-f7b8-476636269381"
      },
      "outputs": [
        {
          "output_type": "execute_result",
          "data": {
            "text/plain": [
              "'AGTC'"
            ],
            "application/vnd.google.colaboratory.intrinsic+json": {
              "type": "string"
            }
          },
          "metadata": {},
          "execution_count": 13
        }
      ],
      "source": [
        "def NumTOPatt(index,k):\n",
        "  dna_dict =['A','C','G','T']\n",
        "  ans =''\n",
        "  for i in range(k):\n",
        "      ans += dna_dict[index % 4]\n",
        "      index //= 4\n",
        "  return ans[::-1] \n",
        "\n",
        "\n",
        "NumTOPatt(45,4)  \n"
      ]
    },
    {
      "cell_type": "markdown",
      "metadata": {
        "id": "mBT8AHij3Kux"
      },
      "source": [
        "## BA1N : Generate the d-Neighborhood of a String"
      ]
    },
    {
      "cell_type": "code",
      "execution_count": 14,
      "metadata": {
        "colab": {
          "base_uri": "https://localhost:8080/"
        },
        "id": "_eqkNsCh1hQT",
        "outputId": "9c2a2561-216c-4b6d-d2b2-2092aa48ae66"
      },
      "outputs": [
        {
          "output_type": "execute_result",
          "data": {
            "text/plain": [
              "{'AAG', 'ACA', 'ACC', 'ACG', 'ACT', 'AGG', 'ATG', 'CCG', 'GCG', 'TCG'}"
            ]
          },
          "metadata": {},
          "execution_count": 14
        }
      ],
      "source": [
        "def d_neighbour(text,d):\n",
        "    words = set()\n",
        "    bases = ['A','T','G','C']\n",
        "    for i in range(len(text)):\n",
        "        for j in range(len(bases)):\n",
        "            new_patt = text[:i] + bases[j] + text[i+1:]\n",
        "            if d<=1:\n",
        "              words.add(new_patt)\n",
        "            else:\n",
        "              d_neighbour(text,d-1)\n",
        "\n",
        "    return words \n",
        "\n",
        "\n",
        "text = \"ACG\"\n",
        "d = 1\n",
        "\n",
        "d_neighbour(text,d)\n"
      ]
    },
    {
      "cell_type": "markdown",
      "metadata": {
        "id": "60KExVXAY_W5"
      },
      "source": [
        "## BA2A: Implement MotifEnumeration"
      ]
    },
    {
      "cell_type": "code",
      "execution_count": 15,
      "metadata": {
        "colab": {
          "base_uri": "https://localhost:8080/"
        },
        "id": "xrD0it5W4sau",
        "outputId": "104331a4-5de9-4eea-9a32-36de184077fe"
      },
      "outputs": [
        {
          "output_type": "execute_result",
          "data": {
            "text/plain": [
              "{'ATA', 'ATT', 'GTT', 'TTT'}"
            ]
          },
          "metadata": {},
          "execution_count": 15
        }
      ],
      "source": [
        "def d_neighbour(text,mismatch):\n",
        "    words = set()\n",
        "    bases = ['A','T','G','C']\n",
        "    for i in range(len(text)):\n",
        "        for j in range(len(bases)):\n",
        "            new_text = text[:i] + bases[j] + text[i+1:]\n",
        "            if mismatch <=1:\n",
        "                words.add(new_text)\n",
        "            else:\n",
        "                d_neighbour(text,mismatch-1)\n",
        "    return words \n",
        "\n",
        "\n",
        "def motifEnumeration(dna_list,k,d):\n",
        "    ans = set()\n",
        "    patterns = []\n",
        "    for n in range(len(dna_list)):\n",
        "        words = set()\n",
        "        for i in range(len(dna_list[n])-k+1):\n",
        "            temp_words = set()\n",
        "            patt = dna_list[n][i:i+k]\n",
        "            temp_words = d_neighbour(patt,d)\n",
        "            for word in temp_words:\n",
        "                words.add(word)\n",
        "        for element in words:\n",
        "            patterns.append(element)\n",
        "\n",
        "    for motif in patterns:\n",
        "        if patterns.count(motif) == len(dna_list):\n",
        "            ans.add(motif)\n",
        "\n",
        "    return ans        \n",
        "\n",
        "\n",
        "\n",
        "\n",
        "\n",
        "dna_list = '''ATTTGGC\n",
        "TGCCTTA\n",
        "CGGTATC\n",
        "GAAATT'''.split()\n",
        "\n",
        "k,d = 3,1\n",
        "\n",
        "motifEnumeration(dna_list,k,d)\n",
        "                    "
      ]
    },
    {
      "cell_type": "markdown",
      "metadata": {
        "id": "PkV-Z0g9e6a1"
      },
      "source": [
        "## BA2B : Find a Median String"
      ]
    },
    {
      "cell_type": "code",
      "execution_count": 16,
      "metadata": {
        "colab": {
          "base_uri": "https://localhost:8080/"
        },
        "id": "cPs9QXNGbbvA",
        "outputId": "5d8ace4c-33c0-441d-ee6d-640422d6cf94"
      },
      "outputs": [
        {
          "output_type": "execute_result",
          "data": {
            "text/plain": [
              "['ACG', 'GAC']"
            ]
          },
          "metadata": {},
          "execution_count": 16
        }
      ],
      "source": [
        "\n",
        "def min_hm_dist(patt,text):\n",
        "    min_hm = len(patt)\n",
        "    for i in range(len(text)-len(patt)+1):\n",
        "        window = text[i:i+len(patt)]\n",
        "        distnace = 0\n",
        "        for j in range(len(patt)):\n",
        "            if patt[j] != window[j]:\n",
        "                distnace += 1\n",
        "        if distnace < min_hm:\n",
        "          min_hm = distnace \n",
        "    return min_hm                 \n",
        "\n",
        "def genArrayPatt(k):\n",
        "    bases = ['A','C','T','G']\n",
        "    array = bases\n",
        "    for n in range(k-1):\n",
        "        array = [i+j for i in array for j in bases]\n",
        "\n",
        "    return array    \n",
        "\n",
        "\n",
        "# print(genArrayPatt(5))\n",
        "\n",
        "def FindMedianString(k,dna):\n",
        "    ans = []\n",
        "    all_kmers = genArrayPatt(k)\n",
        "    dist_for_every_kmer = {}\n",
        "    min_dist_patt = len(all_kmers)*len(dna)\n",
        "    for i in all_kmers:\n",
        "      dist = 0\n",
        "      for j in dna:\n",
        "        dist += min_hm_dist(i,j)\n",
        "      dist_for_every_kmer[i] = dist\n",
        "      if dist_for_every_kmer[i] < min_dist_patt:\n",
        "       min_dist_patt = dist_for_every_kmer[i]\n",
        "    for k,v in dist_for_every_kmer.items():\n",
        "        if v == min_dist_patt: \n",
        "          ans.append(k)\n",
        "    return ans            \n",
        "\n",
        "\n",
        "k =3\n",
        "\n",
        "dna = '''AAATTGACGCAT\n",
        "GACGACCACGTT\n",
        "CGTCAGCGCCTG\n",
        "GCTGAGCACCGG\n",
        "AGTACGGGACAG'''.split()\n",
        "\n",
        "FindMedianString(k,dna)\n",
        "\n"
      ]
    },
    {
      "cell_type": "code",
      "execution_count": 17,
      "metadata": {
        "colab": {
          "base_uri": "https://localhost:8080/"
        },
        "id": "YmT7qYVskuz0",
        "outputId": "6c2b2ddd-56bc-49ad-e5ab-3304cd3177a6"
      },
      "outputs": [
        {
          "output_type": "execute_result",
          "data": {
            "text/plain": [
              "{'ATA', 'ATT', 'GTT', 'TTT'}"
            ]
          },
          "metadata": {},
          "execution_count": 17
        }
      ],
      "source": [
        "def d_neighbour(patt,mismach):\n",
        "    wordsWith_d_mismatches = set()\n",
        "    bases = ['A','C','T','G']\n",
        "    for i in range(len(patt)):\n",
        "        for j in bases:\n",
        "            newPatt = patt[:i] + j + patt[i+1:]\n",
        "            if mismach<=1:\n",
        "                wordsWith_d_mismatches.add(newPatt)\n",
        "            else:\n",
        "                d_neighbour(patt,mismach-1)\n",
        "    return wordsWith_d_mismatches  \n",
        "\n",
        "\n",
        "def motifEnumeration(dna,k,d):\n",
        "    ans = set()\n",
        "    Motifs = []\n",
        "    for i in range(len(dna)):\n",
        "        motifs = set()\n",
        "        for j in range(len(dna[i])-k+1):\n",
        "            patt = dna[i][j:j+k]\n",
        "            wordsMismatch = d_neighbour(patt,d)\n",
        "            for m in wordsMismatch:\n",
        "                motifs.add(m)\n",
        "        for mtfs in motifs:\n",
        "            Motifs.append(mtfs)\n",
        "    for cnt in range(len(Motifs)):\n",
        "        if Motifs.count(Motifs[cnt]) == len(dna):\n",
        "            ans.add(Motifs[cnt])\n",
        "\n",
        "    return ans   \n",
        "\n",
        "\n",
        "\n",
        "dna_list = '''ATTTGGC\n",
        "TGCCTTA\n",
        "CGGTATC\n",
        "GAAATT'''.split()\n",
        "\n",
        "k,d = 3,1\n",
        "\n",
        "motifEnumeration(dna_list,k,d)\n",
        "\n"
      ]
    },
    {
      "cell_type": "markdown",
      "metadata": {
        "id": "ZYNJEH3O8YaD"
      },
      "source": [
        "## BA2C : Find a Profile-most Probable k-mer in a String"
      ]
    },
    {
      "cell_type": "code",
      "execution_count": 18,
      "metadata": {
        "colab": {
          "base_uri": "https://localhost:8080/"
        },
        "id": "5p8p6PSk8fQn",
        "outputId": "1822c301-2d73-448d-9a2d-fec01c3280cc"
      },
      "outputs": [
        {
          "output_type": "execute_result",
          "data": {
            "text/plain": [
              "{'CCGAG'}"
            ]
          },
          "metadata": {},
          "execution_count": 18
        }
      ],
      "source": [
        "\n",
        "def profileMostProbableKmer(text,k,profile):\n",
        "    bases = {'A':0,'C':1,'G':2,'T':3}\n",
        "    ans = set()\n",
        "    max_pro = {}\n",
        "    for i in range(len(text)-k+1):\n",
        "        window = text[i:i+k]\n",
        "        pros = []\n",
        "        probability = 1\n",
        "        for j in range(len(window)):\n",
        "            probability = probability * profile[bases[window[j]]*k + j]\n",
        "            \n",
        "            # pros.append(profile[bases[window[j]]*k + j])\n",
        "            # print(profile[bases[window[j]]*k + j])\n",
        "        # print(\"for \",window,\" probability = \",probability)\n",
        "        \n",
        "        if window not in max_pro:\n",
        "            max_pro[window] = probability\n",
        "        else:\n",
        "            max_pro[window] = max(max_pro[window],probability)      \n",
        "\n",
        "    pro_max = max(max_pro.values())\n",
        "\n",
        "    for k,v in max_pro.items():\n",
        "        if v == pro_max:\n",
        "            ans.add(k)\n",
        "\n",
        "    return ans           \n",
        "\n",
        "\n",
        "\n",
        "profile = '''0.2 0.2 0.3 0.2 0.3\n",
        "0.4 0.3 0.1 0.5 0.1\n",
        "0.3 0.3 0.5 0.2 0.4\n",
        "0.1 0.2 0.1 0.1 0.2'''.split()\n",
        "\n",
        "for i in range(len(profile)):\n",
        "    profile[i] = float(profile[i])\n",
        "\n",
        "\n",
        "    \n",
        "\n",
        "# print(type(profile))\n",
        "\n",
        "text = \"ACCTGTTTATTGCCTAAGTTCCGAACAAACCCAATATAGCCCGAGGGCCT\"\n",
        "k = 5\n",
        "\n",
        "profileMostProbableKmer(text,k,profile)\n"
      ]
    },
    {
      "cell_type": "markdown",
      "metadata": {
        "id": "ad0UipudOKGz"
      },
      "source": [
        "## BA2F : Implement RandomizedMotifSearch"
      ]
    },
    {
      "cell_type": "code",
      "execution_count": 18,
      "metadata": {
        "id": "_LQ7kwmr82p_"
      },
      "outputs": [],
      "source": []
    },
    {
      "cell_type": "markdown",
      "metadata": {
        "id": "326-4fz2OMGA"
      },
      "source": [
        "## BA2G : Implement GibbsSampler"
      ]
    },
    {
      "cell_type": "code",
      "execution_count": 18,
      "metadata": {
        "id": "GzRt2m5QOPAz"
      },
      "outputs": [],
      "source": []
    },
    {
      "cell_type": "markdown",
      "metadata": {
        "id": "xtW1LZFBOTz4"
      },
      "source": [
        "## BA2H : Implement DistanceBetweenPatternAndStrings"
      ]
    },
    {
      "cell_type": "code",
      "execution_count": 19,
      "metadata": {
        "colab": {
          "base_uri": "https://localhost:8080/"
        },
        "id": "ZVrBreSyOZJZ",
        "outputId": "bb068d7b-a1b8-4646-8feb-703cbca718b3"
      },
      "outputs": [
        {
          "output_type": "execute_result",
          "data": {
            "text/plain": [
              "5"
            ]
          },
          "metadata": {},
          "execution_count": 19
        }
      ],
      "source": [
        "\n",
        "def minimum_hamming_dist(text,patt):\n",
        "    dist = len(patt)\n",
        "   \n",
        "    for i in range(len(text)-len(patt)+1):\n",
        "        window = text[i:i+len(patt)]\n",
        "        cnt = 0\n",
        "        for j in range(len(patt)):\n",
        "            if window[j] != patt[j]:\n",
        "                cnt += 1\n",
        "        dist = min(dist,cnt)\n",
        "\n",
        "    return dist \n",
        "\n",
        "\n",
        "def  DistanceBetweenPatternAndStrings(patt,dna):\n",
        "     dist = 0\n",
        "     for i in range(len(dna)):\n",
        "         window = dna[i]\n",
        "        # print(window)\n",
        "         dist += minimum_hamming_dist(window,patt)\n",
        "\n",
        "     return dist     \n",
        "         \n",
        "patt = \"AAA\"\n",
        "\n",
        "dna = '''TTACCTTAAC\n",
        " GATATCTGTC\n",
        " ACGGCGTTCG \n",
        " CCCTAAAGAG \n",
        " CGTCAGAGGT'''.split()\n",
        "\n",
        "DistanceBetweenPatternAndStrings(patt,dna)\n",
        "\n",
        "\n",
        "                "
      ]
    },
    {
      "cell_type": "markdown",
      "metadata": {
        "id": "FctJox-1msQR"
      },
      "source": [
        "## BA3A : Generate the k-mer Composition of a String"
      ]
    },
    {
      "cell_type": "code",
      "execution_count": 20,
      "metadata": {
        "colab": {
          "base_uri": "https://localhost:8080/"
        },
        "id": "Ls8kTeDPTPB9",
        "outputId": "359bdc0d-93bf-4a61-cfc1-53cfdd84b2bb"
      },
      "outputs": [
        {
          "output_type": "execute_result",
          "data": {
            "text/plain": [
              "['ATG', 'GGG', 'GGG', 'GGT', 'GTG', 'TAT', 'TGC', 'TGG']"
            ]
          },
          "metadata": {},
          "execution_count": 20
        }
      ],
      "source": [
        "def kmerComposition(k,text):\n",
        "    textlist =[]\n",
        "    for i in range(len(text)-k+1):\n",
        "        kmers = text[i:i+k]\n",
        "        textlist.append(kmers)\n",
        "    textlist.sort()    \n",
        "    return textlist     \n",
        "\n",
        "\n",
        "k = 3\n",
        "text =\"TATGGGGTGC\"\n",
        "\n",
        "kmerComposition(k,text)"
      ]
    },
    {
      "cell_type": "markdown",
      "metadata": {
        "id": "ocL1T-S1pg0D"
      },
      "source": [
        "## BA3B : Reconstruct a String from its Genome Path"
      ]
    },
    {
      "cell_type": "code",
      "execution_count": 21,
      "metadata": {
        "colab": {
          "base_uri": "https://localhost:8080/",
          "height": 36
        },
        "id": "APKJTXhTob1r",
        "outputId": "6cce943f-e053-4d5a-a1dc-a0408fca7517"
      },
      "outputs": [
        {
          "output_type": "execute_result",
          "data": {
            "text/plain": [
              "'ACCGAAGCT'"
            ],
            "application/vnd.google.colaboratory.intrinsic+json": {
              "type": "string"
            }
          },
          "metadata": {},
          "execution_count": 21
        }
      ],
      "source": [
        "def reconstructStringFromGenomePath(dna):\n",
        "    ans = ''\n",
        "    ans += dna[0]\n",
        "    for i in range(1,len(dna)):\n",
        "        string = dna[i]\n",
        "        ans += string[len(string)-1]\n",
        "\n",
        "    return ans\n",
        "\n",
        "\n",
        "dna = '''ACCGA\n",
        "CCGAA\n",
        "CGAAG\n",
        "GAAGC\n",
        "AAGCT'''.split()\n",
        "\n",
        "reconstructStringFromGenomePath(dna)\n",
        "\n"
      ]
    },
    {
      "cell_type": "markdown",
      "metadata": {
        "id": "6W3JEH1Rr0pW"
      },
      "source": [
        "## BA3C : Construct the Overlap Graph of a Collection of k-mers"
      ]
    },
    {
      "cell_type": "code",
      "execution_count": 22,
      "metadata": {
        "colab": {
          "base_uri": "https://localhost:8080/"
        },
        "id": "A5RdHxnirHeu",
        "outputId": "4cd48f6c-d3ab-42b3-fbce-026de9c9a51e"
      },
      "outputs": [
        {
          "output_type": "stream",
          "name": "stdout",
          "text": [
            "AGGCA -> GGCAT\n",
            "CATGC -> ATGCG\n",
            "GCATG -> CATGC\n",
            "GGCAT -> GCATG\n"
          ]
        }
      ],
      "source": [
        "def constructOverlapGraph(dna):\n",
        "  ans = []\n",
        "  for i in range(len(dna)):\n",
        "      suff = dna[i][1:]\n",
        "      for j in range(len(dna)):\n",
        "          pref = dna[j][:len(dna[i])-1]\n",
        "          if suff == pref:\n",
        "            #  print(dna[i],\"->\",dna[j])\n",
        "              ans.append((dna[i],dna[j]))\n",
        "  ans.sort()            \n",
        "  return ans             \n",
        "\n",
        "dna ='''ATGCG\n",
        "GCATG\n",
        "CATGC\n",
        "AGGCA\n",
        "GGCAT'''.split()\n",
        "\n",
        "ans = constructOverlapGraph(dna)\n",
        "\n",
        "for i,j in ans:\n",
        "    print(i,\"->\",j)\n",
        "\n",
        "             \n"
      ]
    },
    {
      "cell_type": "markdown",
      "metadata": {
        "id": "bLZ1VDv_6R2V"
      },
      "source": [
        "## BA3D : Construct the De Bruijn Graph of a String"
      ]
    },
    {
      "cell_type": "code",
      "execution_count": 23,
      "metadata": {
        "colab": {
          "base_uri": "https://localhost:8080/"
        },
        "id": "tvGev0k45fnY",
        "outputId": "36541dbe-5d72-4dd6-a285-9c67974bfc38"
      },
      "outputs": [
        {
          "output_type": "stream",
          "name": "stdout",
          "text": [
            "AAG -> AGA\n",
            "AGA -> GAT\n",
            "ATT -> TTC\n",
            "CTA -> TAC\n",
            "CTC -> TCT\n",
            "GAT -> ATT\n",
            "TCT -> CTA , CTC\n",
            "TTC -> TCT\n"
          ]
        }
      ],
      "source": [
        "from collections import defaultdict\n",
        "def de_bruijan_graph(k,dna):\n",
        "    ans = defaultdict(list)\n",
        "    for i in range(len(dna)-k+1):\n",
        "        window = dna[i:i+k]\n",
        "        pref = window[:len(window)-1]\n",
        "        suff = window[1:]\n",
        "        ans[pref].append(suff)\n",
        "\n",
        "    return ans \n",
        "\n",
        "k = 4\n",
        "dna = \"AAGATTCTCTAC\"\n",
        "ans = de_bruijan_graph(k,dna)\n",
        "\n",
        "for k,v in sorted(ans.items()):\n",
        "    v.sort()\n",
        "    print(k,\"->\",end=' ')\n",
        "    for i in range(len(v)):\n",
        "        if i!=len(v)-1: \n",
        "           print(v[i],\",\",end=' ')\n",
        "        else:\n",
        "           print(v[i])    \n",
        "\n",
        "\n",
        "          \n",
        "          \n"
      ]
    },
    {
      "cell_type": "markdown",
      "metadata": {
        "id": "_3Fv9GAdICC3"
      },
      "source": [
        "## BA3E : Construct the De Bruijn Graph of a Collection of k-mers"
      ]
    },
    {
      "cell_type": "code",
      "execution_count": 24,
      "metadata": {
        "colab": {
          "base_uri": "https://localhost:8080/"
        },
        "id": "DZhMk5OfCiW3",
        "outputId": "c2c48084-e3b7-44fc-f7e2-058b6b6520d4"
      },
      "outputs": [
        {
          "output_type": "stream",
          "name": "stdout",
          "text": [
            "AGG ->GGG\n",
            "CAG ->AGG ,AGG\n",
            "GAG ->AGG\n",
            "GGA ->GAG\n",
            "GGG ->GGA ,GGG\n"
          ]
        }
      ],
      "source": [
        "def de_bruijan_graph_collection(dna):\n",
        "    ans = defaultdict(list)\n",
        "    for d in dna:\n",
        "        ans[d[:len(d)-1]].append(d[1:])\n",
        "    return ans\n",
        "\n",
        "\n",
        "dna = '''GAGG\n",
        "CAGG\n",
        "GGGG\n",
        "GGGA\n",
        "CAGG\n",
        "AGGG\n",
        "GGAG'''.split()\n",
        "\n",
        "ans = de_bruijan_graph_collection(dna)\n",
        "\n",
        "for k,v in sorted(ans.items()):\n",
        "    v.sort()\n",
        "    print(k,\"->\",end='')\n",
        "    for i in range(len(v)):\n",
        "        if i != len(v)-1:\n",
        "           print(v[i],\",\",end='')\n",
        "        else:\n",
        "           print(v[i])\n",
        "                \n"
      ]
    },
    {
      "cell_type": "markdown",
      "metadata": {
        "id": "zqjzP0_UKJjL"
      },
      "source": [
        "## BA3F : Find an Eulerian Cycle in a Graph"
      ]
    },
    {
      "cell_type": "code",
      "execution_count": 24,
      "metadata": {
        "id": "GeHCMC87Ow5F"
      },
      "outputs": [],
      "source": []
    },
    {
      "cell_type": "markdown",
      "metadata": {
        "id": "IWIRtp-EOxWE"
      },
      "source": [
        "## BA4A : Translate an RNA String into an Amino Acid String"
      ]
    },
    {
      "cell_type": "code",
      "execution_count": 25,
      "metadata": {
        "colab": {
          "base_uri": "https://localhost:8080/",
          "height": 73
        },
        "id": "MwyQHWMgKLK1",
        "outputId": "2f8ad18c-e75c-4f07-9375-bc98e368509b"
      },
      "outputs": [
        {
          "output_type": "stream",
          "name": "stdout",
          "text": [
            "{'UUU': 'F', 'CUU': 'L', 'AUU': 'I', 'GUU': 'V', 'UUC': 'F', 'CUC': 'L', 'AUC': 'I', 'GUC': 'V', 'UUA': 'L', 'CUA': 'L', 'AUA': 'I', 'GUA': 'V', 'UUG': 'L', 'CUG': 'L', 'AUG': 'M', 'GUG': 'V', 'UCU': 'S', 'CCU': 'P', 'ACU': 'T', 'GCU': 'A', 'UCC': 'S', 'CCC': 'P', 'ACC': 'T', 'GCC': 'A', 'UCA': 'S', 'CCA': 'P', 'ACA': 'T', 'GCA': 'A', 'UCG': 'S', 'CCG': 'P', 'ACG': 'T', 'GCG': 'A', 'UAU': 'Y', 'CAU': 'H', 'AAU': 'N', 'GAU': 'D', 'UAC': 'Y', 'CAC': 'H', 'AAC': 'N', 'GAC': 'D', 'UAA': 'Stop', 'CAA': 'Q', 'AAA': 'K', 'GAA': 'E', 'UAG': 'Stop', 'CAG': 'Q', 'AAG': 'K', 'GAG': 'E', 'UGU': 'C', 'CGU': 'R', 'AGU': 'S', 'GGU': 'G', 'UGC': 'C', 'CGC': 'R', 'AGC': 'S', 'GGC': 'G', 'UGA': 'Stop', 'CGA': 'R', 'AGA': 'R', 'GGA': 'G', 'UGG': 'W', 'CGG': 'R', 'AGG': 'R', 'GGG': 'G'}\n"
          ]
        },
        {
          "output_type": "execute_result",
          "data": {
            "text/plain": [
              "'MAMAPRTEINSTRING'"
            ],
            "application/vnd.google.colaboratory.intrinsic+json": {
              "type": "string"
            }
          },
          "metadata": {},
          "execution_count": 25
        }
      ],
      "source": [
        "def getCodon(table):\n",
        "    return dict(zip(table[0::2],table[1::2]))\n",
        "\n",
        "table ='''UUU F      CUU L      AUU I      GUU V\n",
        "          UUC F      CUC L      AUC I      GUC V\n",
        "          UUA L      CUA L      AUA I      GUA V\n",
        "          UUG L      CUG L      AUG M      GUG V\n",
        "          UCU S      CCU P      ACU T      GCU A\n",
        "          UCC S      CCC P      ACC T      GCC A\n",
        "          UCA S      CCA P      ACA T      GCA A\n",
        "          UCG S      CCG P      ACG T      GCG A\n",
        "          UAU Y      CAU H      AAU N      GAU D\n",
        "          UAC Y      CAC H      AAC N      GAC D\n",
        "          UAA Stop   CAA Q      AAA K      GAA E\n",
        "          UAG Stop   CAG Q      AAG K      GAG E\n",
        "          UGU C      CGU R      AGU S      GGU G\n",
        "          UGC C      CGC R      AGC S      GGC G\n",
        "          UGA Stop   CGA R      AGA R      GGA G\n",
        "          UGG W      CGG R      AGG R      GGG G  '''.split()\n",
        "\n",
        "\n",
        "print( getCodon(table))\n",
        "\n",
        "def rnaToAmio(rna):\n",
        "    rnaCodon = getCodon(table)\n",
        "    ans =''\n",
        "    for i in range(0,len(rna)-3+1,3):\n",
        "        rnacode = rna[i:i+3]\n",
        "        if rnaCodon[rnacode] != 'Stop':\n",
        "           ans += rnaCodon[rnacode]\n",
        "        else:\n",
        "           break     \n",
        "        \n",
        "    return ans\n",
        "\n",
        "rna = \"AUGGCCAUGGCGCCCAGAACUGAGAUCAAUAGUACCCGUAUUAACGGGUGA\"    \n",
        "\n",
        "rnaToAmio(rna)\n",
        "            \n"
      ]
    },
    {
      "cell_type": "markdown",
      "metadata": {
        "id": "AGaYBFQPQqro"
      },
      "source": [
        "## BA4B : Find Substrings of a Genome Encoding a Given Amino Acid String"
      ]
    },
    {
      "cell_type": "code",
      "execution_count": 26,
      "metadata": {
        "colab": {
          "base_uri": "https://localhost:8080/"
        },
        "id": "q3-W1siBOfr4",
        "outputId": "7d87af44-4c51-4a7c-c643-050d860ec434"
      },
      "outputs": [
        {
          "output_type": "execute_result",
          "data": {
            "text/plain": [
              "['ATGGCC', 'GGCCAT', 'ATGGCC']"
            ]
          },
          "metadata": {},
          "execution_count": 26
        }
      ],
      "source": [
        "table ='''UUU F      CUU L      AUU I      GUU V\n",
        "          UUC F      CUC L      AUC I      GUC V\n",
        "          UUA L      CUA L      AUA I      GUA V\n",
        "          UUG L      CUG L      AUG M      GUG V\n",
        "          UCU S      CCU P      ACU T      GCU A\n",
        "          UCC S      CCC P      ACC T      GCC A\n",
        "          UCA S      CCA P      ACA T      GCA A\n",
        "          UCG S      CCG P      ACG T      GCG A\n",
        "          UAU Y      CAU H      AAU N      GAU D\n",
        "          UAC Y      CAC H      AAC N      GAC D\n",
        "          UAA Stop   CAA Q      AAA K      GAA E\n",
        "          UAG Stop   CAG Q      AAG K      GAG E\n",
        "          UGU C      CGU R      AGU S      GGU G\n",
        "          UGC C      CGC R      AGC S      GGC G\n",
        "          UGA Stop   CGA R      AGA R      GGA G\n",
        "          UGG W      CGG R      AGG R      GGG G  '''.split()\n",
        "\n",
        "def DnaToRna(dna):\n",
        "    ans = ''\n",
        "    for i in range(len(dna)):\n",
        "        if dna[i] == 'T':\n",
        "           ans += 'U'\n",
        "        else:\n",
        "           ans += dna[i]   \n",
        "\n",
        "    return ans  \n",
        "\n",
        "def rev_com(dna):\n",
        "    ans = ''\n",
        "    for i in range(len(dna)):\n",
        "        if dna[i] == 'A':\n",
        "            ans += 'T'\n",
        "        if dna[i] =='T':\n",
        "            ans += 'A'\n",
        "        if dna[i] == 'G':\n",
        "            ans += 'C'\n",
        "        if dna[i] == 'C':\n",
        "            ans += 'G'    \n",
        "    ans = ans[::-1] \n",
        "    return ans                       \n",
        "\n",
        "\n",
        "\n",
        "def rnaToPeptide(rna):\n",
        "    codonTable = getCodon(table)\n",
        "    ans = ''\n",
        "    for i in range(0,len(rna)-3+1,3):\n",
        "        window = rna[i:i+3]\n",
        "        if codonTable[window] != 'Stop':\n",
        "            ans += codonTable[window]\n",
        "        else:\n",
        "            break    \n",
        "    return ans\n",
        "\n",
        "\n",
        "\n",
        "\n",
        "def substringGivenAmioAcidDna(dna,amino):\n",
        "    ans = []\n",
        "    for i in range(len(dna)-len(amino)*3+1):\n",
        "        window = dna[i:i+len(amino)*3]\n",
        "        rna = DnaToRna(window)\n",
        "        rev_rna = DnaToRna(rev_com(window))\n",
        "        # print(\"dna \",window,\" rna-> \",rna)\n",
        "        # print(\"dna \",window,\" rna-> \",rev_rna) \n",
        "        pep1 = rnaToPeptide(rna)\n",
        "        pep2 = rnaToPeptide(rev_rna)\n",
        "        if pep1 == amino:\n",
        "           ans.append(window)\n",
        "        if pep2 == amino:\n",
        "           ans.append(window)\n",
        "    return ans           \n",
        "\n",
        "\n",
        "dna = \"ATGGCCATGGCCCCCAGAACTGAGATCAATAGTACCCGTATTAACGGGTGA\"\n",
        "amino = \"MA\"\n",
        "\n",
        "substringGivenAmioAcidDna(dna,amino)\n",
        "\n",
        "\n"
      ]
    },
    {
      "cell_type": "markdown",
      "metadata": {
        "id": "_p4ARLT6OUPY"
      },
      "source": [
        "## BA4C : Generate the Theoretical Spectrum of a Cyclic Peptide"
      ]
    },
    {
      "cell_type": "code",
      "execution_count": 27,
      "metadata": {
        "colab": {
          "base_uri": "https://localhost:8080/"
        },
        "id": "bNIsEhXlT5v0",
        "outputId": "8b481c30-bc64-48bd-ac7f-54094f542a14"
      },
      "outputs": [
        {
          "output_type": "execute_result",
          "data": {
            "text/plain": [
              "[0, 113, 114, 128, 129, 227, 242, 242, 257, 355, 356, 370, 371, 484]"
            ]
          },
          "metadata": {},
          "execution_count": 27
        }
      ],
      "source": [
        "table = '''A   71.0788\n",
        "C   103.1388\n",
        "D   115.0886\n",
        "E   129.1155\n",
        "F   147.1766\n",
        "G   57.0519\n",
        "H   137.1411\n",
        "I   113.1594\n",
        "K   128.1741\n",
        "L   113.1594\n",
        "M   131.1986\n",
        "N   114.1039\n",
        "P   97.1167\n",
        "Q   128.1307\n",
        "R   156.1875\n",
        "S   87.0782\n",
        "T   101.1051\n",
        "V   99.1326\n",
        "W   186.2132\n",
        "Y   163.1760 \n",
        "'''.split()\n",
        "\n",
        "\n",
        "def getMassTable(table):\n",
        "    return dict(zip(table[0::2],table[1::2]))\n",
        "\n",
        "\n",
        "\n",
        "\n",
        "\n",
        "def Cyclospectrum(Peptide):\n",
        "    ans = []\n",
        "    ans.append(0)\n",
        "    mass_table = getMassTable(table)\n",
        "    newPep = Peptide + Peptide\n",
        "    for i in range(len(Peptide)-1):\n",
        "        for j in range(len(Peptide)):\n",
        "            p = newPep[j:j+i+1]\n",
        "            # print(p)\n",
        "            sum = 0\n",
        "            for k in range(len(p)):\n",
        "                sum += int((float)(mass_table[p[k]]))\n",
        "            ans.append(sum) \n",
        "    sum2 = 0\n",
        "    for i in range(len(Peptide)):\n",
        "        sum2 += int(float(mass_table[Peptide[i]]))\n",
        "        # ans.append(int(float(mass_table[Peptide[i]])))\n",
        "\n",
        "    ans.append(sum2)\n",
        "\n",
        "\n",
        "    ans.sort()    \n",
        "    return ans\n",
        "\n",
        "\n",
        "\n",
        "\n",
        "\n",
        "\n",
        "\n",
        "Peptide = 'LEQN'\n",
        "\n",
        "Cyclospectrum(Peptide)\n",
        "\n",
        "\n",
        "\n",
        "\n",
        "\n",
        "# 0 113 114 128 129 227 242 242 257 355 356 370 371 484\n",
        "\n"
      ]
    },
    {
      "cell_type": "markdown",
      "metadata": {
        "id": "OIrA3AtPzApx"
      },
      "source": [
        "## BA4D : Compute the Number of Peptides of Given Total Mass"
      ]
    },
    {
      "cell_type": "code",
      "execution_count": 28,
      "metadata": {
        "colab": {
          "base_uri": "https://localhost:8080/",
          "height": 465
        },
        "id": "i4PvDR5GqGgi",
        "outputId": "377c3b07-8b05-45f6-e7d8-478f43c4e254"
      },
      "outputs": [
        {
          "output_type": "stream",
          "name": "stdout",
          "text": [
            "Total number of peptide possible is  14712706211\n"
          ]
        },
        {
          "output_type": "execute_result",
          "data": {
            "text/plain": [
              "[<matplotlib.lines.Line2D at 0x7f57f422d240>]"
            ]
          },
          "metadata": {},
          "execution_count": 28
        },
        {
          "output_type": "display_data",
          "data": {
            "text/plain": [
              "<Figure size 640x480 with 1 Axes>"
            ],
            "image/png": "[encoded data removed]"
          },
          "metadata": {}
        }
      ],
      "source": [
        "def noOfpeptides(mass):\n",
        "    table_dict = getMassTable(table)\n",
        "    masslist = []\n",
        "    peptideNum = [0]*(mass+1)\n",
        "    peptideNum[0] = 1\n",
        "    masses = set()\n",
        "    for k,v in table_dict.items():\n",
        "        masses.add(int(float(v)))\n",
        "    for m in masses:\n",
        "        masslist.append(m)\n",
        "    for i in range(mass+1):\n",
        "        for j in masslist:\n",
        "            if i>=j:\n",
        "              peptideNum[i] += peptideNum[i-j] \n",
        "\n",
        "    return peptideNum[mass],peptideNum          \n",
        "\n",
        "num,way = noOfpeptides(1024)\n",
        "\n",
        "print(\"Total number of peptide possible is \",num)\n",
        "\n",
        "import matplotlib.pyplot as plt\n",
        "import math\n",
        "import numpy as np\n",
        "\n",
        "mass = []\n",
        "ways =  []\n",
        "\n",
        "for i in range(1025):\n",
        "    mass.append(i)\n",
        "    if way[i]!=0:\n",
        "       ways.append(math.log10(way[i]))\n",
        "    else:\n",
        "       ways.append(0)   \n",
        "\n",
        "\n",
        "plt.plot(mass,ways)\n",
        "\n",
        "\n",
        "            \n"
      ]
    },
    {
      "cell_type": "markdown",
      "metadata": {
        "id": "BnOyxVpMs2H4"
      },
      "source": [
        "## BA4F : Compute the Score of a Cyclic Peptide Against a Spectrum"
      ]
    },
    {
      "cell_type": "code",
      "execution_count": 29,
      "metadata": {
        "colab": {
          "base_uri": "https://localhost:8080/"
        },
        "id": "m_gQyfMYhsEm",
        "outputId": "fc2bd72e-6302-4aca-a88c-6d7ce0209066"
      },
      "outputs": [
        {
          "output_type": "execute_result",
          "data": {
            "text/plain": [
              "11"
            ]
          },
          "metadata": {},
          "execution_count": 29
        }
      ],
      "source": [
        "\n",
        "table = '''A   71.0788\n",
        "C   103.1388\n",
        "D   115.0886\n",
        "E   129.1155\n",
        "F   147.1766\n",
        "G   57.0519\n",
        "H   137.1411\n",
        "I   113.1594\n",
        "K   128.1741\n",
        "L   113.1594\n",
        "M   131.1986\n",
        "N   114.1039\n",
        "P   97.1167\n",
        "Q   128.1307\n",
        "R   156.1875\n",
        "S   87.0782\n",
        "T   101.1051\n",
        "V   99.1326\n",
        "W   186.2132\n",
        "Y   163.1760 \n",
        "'''.split()\n",
        "\n",
        "\n",
        "def getMassTable(table):\n",
        "    return dict(zip(table[0::2],table[1::2]))\n",
        "\n",
        "\n",
        "\n",
        "\n",
        "def theOSpectramOfCyclicPeptide(peptide):\n",
        "    mass_table = getMassTable(table)\n",
        "    ans = []\n",
        "    ans.append(0)\n",
        "    newpep = peptide+peptide\n",
        "    for i in range(len(peptide)-1):\n",
        "        for j in range(len(peptide)):\n",
        "            patt = newpep[j:j+i+1]\n",
        "            sum = 0\n",
        "            for p in range(len(patt)):\n",
        "                sum += int(float(mass_table[patt[p]]))\n",
        "            ans.append(sum)\n",
        "    sum = 0        \n",
        "    for i in range(len(peptide)):\n",
        "        sum += int(float(mass_table[peptide[i]]))\n",
        "    ans.append(sum)\n",
        "    ans.sort()\n",
        "    return ans\n",
        "\n",
        "\n",
        "# print(theOSpectramOfCyclicPeptide(\"NQEL\"))\n",
        "\n",
        "def scoring(peptide,expMass):\n",
        "    theomass = theOSpectramOfCyclicPeptide(peptide)\n",
        "    expMass.sort()\n",
        "    score = 0\n",
        "    theoDict = {}\n",
        "    expDict = {}\n",
        "    for i in range(len(theomass)):\n",
        "        theoDict[theomass[i]] = theomass.count(theomass[i])\n",
        "\n",
        "    for i in range(len(expMass)):\n",
        "        expDict[expMass[i]] = expMass.count(expMass[i])\n",
        "\n",
        "    for k,v in expDict.items():\n",
        "        if k not in theoDict:\n",
        "           score += 0\n",
        "        else:\n",
        "           score += min(theoDict[k],expDict[k]) \n",
        "               \n",
        "    return score\n",
        "\n",
        "\n",
        "peptide = \"NQEL\"\n",
        "expMass = \"0 99 113 114 128 227 257 299 355 356 370 371 484\".split()\n",
        "for i in range(len(expMass)):\n",
        "    expMass[i] = int(expMass[i])\n",
        "\n",
        "scoring(peptide,expMass)\n",
        "\n",
        "\n"
      ]
    },
    {
      "cell_type": "markdown",
      "source": [
        "## BA4J : Generate the Theoretical Spectrum of a Linear Peptide"
      ],
      "metadata": {
        "id": "3pfr7R99NmZc"
      }
    },
    {
      "cell_type": "code",
      "execution_count": 30,
      "metadata": {
        "colab": {
          "base_uri": "https://localhost:8080/"
        },
        "id": "UZEb9GZYCG0a",
        "outputId": "bd95d3fb-d8ac-40fc-c27a-5b897a30bb2a"
      },
      "outputs": [
        {
          "output_type": "execute_result",
          "data": {
            "text/plain": [
              "[0, 113, 114, 128, 129, 242, 242, 257, 370, 371, 484]"
            ]
          },
          "metadata": {},
          "execution_count": 30
        }
      ],
      "source": [
        "table = '''A   71.0788\n",
        "C   103.1388\n",
        "D   115.0886\n",
        "E   129.1155\n",
        "F   147.1766\n",
        "G   57.0519\n",
        "H   137.1411\n",
        "I   113.1594\n",
        "K   128.1741\n",
        "L   113.1594\n",
        "M   131.1986\n",
        "N   114.1039\n",
        "P   97.1167\n",
        "Q   128.1307\n",
        "R   156.1875\n",
        "S   87.0782\n",
        "T   101.1051\n",
        "V   99.1326\n",
        "W   186.2132\n",
        "Y   163.1760 \n",
        "'''.split()\n",
        "\n",
        "\n",
        "def getMassTable(table):\n",
        "    return dict(zip(table[0::2],table[1::2]))\n",
        "\n",
        "\n",
        "def TheoSpectramOfLinearPeptide(peptide):\n",
        "    mass_table = getMassTable(table)\n",
        "    ans = []\n",
        "    ans.append(0)\n",
        "    for i in range(len(peptide)):\n",
        "        for j in range(i,len(peptide)):\n",
        "            patt = peptide[i:j+1]\n",
        "            sum = 0\n",
        "            for k in range(len(patt)):\n",
        "                sum += int(float(mass_table[patt[k]]))\n",
        "            ans.append(sum)\n",
        "    ans.sort()\n",
        "    return ans\n",
        "\n",
        "\n",
        "peptide = \"NQEL\"\n",
        "\n",
        "TheoSpectramOfLinearPeptide(peptide)\n",
        "\n",
        "\n"
      ]
    },
    {
      "cell_type": "markdown",
      "source": [
        "## BA4K : Compute the Score of a Linear Peptide"
      ],
      "metadata": {
        "id": "KPTrDGgdOEou"
      }
    },
    {
      "cell_type": "code",
      "source": [
        "def computeLinearPaptideScore(peptide,expMass):\n",
        "    theomass = TheoSpectramOfLinearPeptide(peptide)\n",
        "    expdict = {}\n",
        "    theodict ={}\n",
        "\n",
        "    for i in theomass:\n",
        "        theodict[i] = theomass.count(i)\n",
        "    for j in expmass:\n",
        "        expdict[j] = expMass.count(j)\n",
        "    \n",
        "    score = 0\n",
        "    for k in expdict.keys():\n",
        "        if k not in theodict:\n",
        "           score += 0\n",
        "        else:\n",
        "          score += min(theodict[k],expdict[k])\n",
        "\n",
        "    return score\n",
        "\n",
        "\n",
        "\n",
        "peptide = \"NQEL\"\n",
        "expmass = \"0 99 113 114 128 227 257 299 355 356 370 371 484\".split()\n",
        "\n",
        "for i in range(len(expmass)):\n",
        "    expmass[i] = int(float(expmass[i]))\n",
        "\n",
        "computeLinearPaptideScore(peptide,expMass)    \n",
        "\n",
        "\n"
      ],
      "metadata": {
        "colab": {
          "base_uri": "https://localhost:8080/"
        },
        "id": "ZbSMm60rOGcs",
        "outputId": "6c9bd809-8baa-4e6e-b402-76eb0a2719f2"
      },
      "execution_count": 31,
      "outputs": [
        {
          "output_type": "execute_result",
          "data": {
            "text/plain": [
              "8"
            ]
          },
          "metadata": {},
          "execution_count": 31
        }
      ]
    },
    {
      "cell_type": "markdown",
      "source": [
        "## BA5A : Find the Minimum Number of Coins Needed to Make Change"
      ],
      "metadata": {
        "id": "RGO9QJPGPoWq"
      }
    },
    {
      "cell_type": "code",
      "source": [
        "def minimumCoins(money,coins):\n",
        "    dp = [9999999]*(money+1)\n",
        "    dp[0] = 0\n",
        "    for i in range(money+1):\n",
        "        for j in coins:\n",
        "            if i>=j:\n",
        "               dp[i] = min(dp[i],dp[i-j]+1)\n",
        "    return dp[money]  \n",
        "\n",
        "money = 40\n",
        "\n",
        "coins =[1,5,10,20,25,50]\n",
        "\n",
        "minimumCoins(money,coins)\n",
        "\n"
      ],
      "metadata": {
        "colab": {
          "base_uri": "https://localhost:8080/"
        },
        "id": "CzVZu5y3PTtM",
        "outputId": "c087aa77-6b1d-4ef1-af96-8110420239e7"
      },
      "execution_count": 32,
      "outputs": [
        {
          "output_type": "execute_result",
          "data": {
            "text/plain": [
              "2"
            ]
          },
          "metadata": {},
          "execution_count": 32
        }
      ]
    },
    {
      "cell_type": "markdown",
      "source": [
        "## BA5C : Find a Longest Common Subsequence of Two Strings"
      ],
      "metadata": {
        "id": "rcco_6nATPtt"
      }
    },
    {
      "cell_type": "code",
      "source": [
        "def LCS(patt1,patt2):\n",
        "    l1 = len(patt1)\n",
        "    l2 = len(patt2)\n",
        "    dp = []\n",
        "    for i in range(l1+1):\n",
        "        arr = []\n",
        "        for j in range(l2+1):\n",
        "            arr.append(0)\n",
        "        dp.append(arr)\n",
        "\n",
        "    for i in range(l1+1):\n",
        "         for j in range(l2+1):\n",
        "             if i==0 or j==0:\n",
        "                dp[i][j] = 0\n",
        "             else:\n",
        "                if patt1[i-1] == patt2[j-1]:    \n",
        "                    dp[i][j] = 1+dp[i-1][j-1]\n",
        "                else:\n",
        "                    dp[i][j] = max(dp[i-1][j],dp[i][j-1])\n",
        "    # return dp[l1][l2] \n",
        "    l = l2\n",
        "    h = l1\n",
        "    ans = ''\n",
        "    while l>0 and h>0 :\n",
        "       if patt1[h-1] == patt2[l-1]:\n",
        "          ans += patt1[h-1]\n",
        "          l -=1\n",
        "          h -=1\n",
        "       else:\n",
        "          if dp[h-1][l] >= dp[h][l-1]:\n",
        "             h -=1\n",
        "          else:\n",
        "             l -=1\n",
        "\n",
        "    return ans[::-1]                   \n",
        "\n",
        "\n",
        "patt1 = \"AACCTTGG\"\n",
        "patt2 =\"ACACTGTGA\"    \n",
        "\n",
        "LCS(patt1,patt2)  \n",
        "\n"
      ],
      "metadata": {
        "colab": {
          "base_uri": "https://localhost:8080/",
          "height": 36
        },
        "id": "H9oXUxoVQ9j7",
        "outputId": "be7c69eb-fe37-452d-ae4e-2ad1ce193ccf"
      },
      "execution_count": 33,
      "outputs": [
        {
          "output_type": "execute_result",
          "data": {
            "text/plain": [
              "'AACTTG'"
            ],
            "application/vnd.google.colaboratory.intrinsic+json": {
              "type": "string"
            }
          },
          "metadata": {},
          "execution_count": 33
        }
      ]
    },
    {
      "cell_type": "markdown",
      "source": [
        "## BA6B : Compute the Number of Breakpoints in a Permutation"
      ],
      "metadata": {
        "id": "qkiYPpcQiB0N"
      }
    },
    {
      "cell_type": "code",
      "source": [
        "def countBreakpoints(arr1):\n",
        "    arr = []\n",
        "    arr.append('0')\n",
        "    for i in arr1:\n",
        "        arr.append(i)\n",
        "    cnt =0    \n",
        "    for i in range(len(arr)-1):\n",
        "        if int(arr[i+1])-int(arr[i]) !=1:\n",
        "            cnt += 1\n",
        "    return cnt \n",
        "\n",
        "\n",
        "arr1 = \"(+3 +4 +5 -12 -8 -7 -6 +1 +2 +10 +9 -11 +13 +14)\".replace('(',' ').replace(')',' ').split()\n",
        "\n",
        "countBreakpoints(arr1)\n",
        "\n",
        "\n",
        "\n"
      ],
      "metadata": {
        "colab": {
          "base_uri": "https://localhost:8080/"
        },
        "id": "iPx87UJpZLm-",
        "outputId": "ace7c9f1-84c6-4d35-f3c5-6c47aadef2a2"
      },
      "execution_count": 34,
      "outputs": [
        {
          "output_type": "execute_result",
          "data": {
            "text/plain": [
              "8"
            ]
          },
          "metadata": {},
          "execution_count": 34
        }
      ]
    },
    {
      "cell_type": "markdown",
      "source": [
        "## BA6F : Implement ChromosomeToCycle"
      ],
      "metadata": {
        "id": "UjF1C0I3nq1J"
      }
    },
    {
      "cell_type": "code",
      "source": [
        "def ChromosomeToCycle(arr):\n",
        "    ans = []\n",
        "    for k in arr:\n",
        "        i = int(k)\n",
        "        if i>0:\n",
        "           ans.append(2*i-1)\n",
        "           ans.append(2*i)\n",
        "        else:\n",
        "            ans.append(-2*i)\n",
        "            ans.append(-2*i-1)\n",
        "    return ans \n",
        "\n",
        "arr = \"(+1 -2 -3 +4)\".replace('(',' ').replace(')',' ').split() \n",
        "\n",
        "ChromosomeToCycle(arr)\n"
      ],
      "metadata": {
        "colab": {
          "base_uri": "https://localhost:8080/"
        },
        "id": "NkaWc7Y_m7Yj",
        "outputId": "03d07f38-2947-4a07-95d6-a051fa799fd9"
      },
      "execution_count": 35,
      "outputs": [
        {
          "output_type": "execute_result",
          "data": {
            "text/plain": [
              "[1, 2, 4, 3, 6, 5, 7, 8]"
            ]
          },
          "metadata": {},
          "execution_count": 35
        }
      ]
    },
    {
      "cell_type": "markdown",
      "source": [
        "## BA6G : Implement CycleToChromosome"
      ],
      "metadata": {
        "id": "sYk45Kvw0ruf"
      }
    },
    {
      "cell_type": "code",
      "source": [
        "def CycleToChromosome(arr):\n",
        "    ans = []\n",
        "    for i in range(len(arr)-1,2):\n",
        "        s = ''\n",
        "        if arr[i+1]>arr[i]:\n",
        "           s = '+'+ str(int(arr[i+1])/2)\n",
        "           ans.append(s) \n",
        "        else:\n",
        "           s = '-' + str(int(arr[i])/2)\n",
        "           ans.append(s)\n",
        "    return ans \n",
        "\n",
        "arr = \"(1 2 4 3 6 5 7 8)\".replace('(',' ').replace(')',' ').split()\n",
        "\n",
        "CycleToChromosome(arr)\n",
        "\n"
      ],
      "metadata": {
        "colab": {
          "base_uri": "https://localhost:8080/"
        },
        "id": "nKCJF7Bpz28B",
        "outputId": "fe5f21d4-4674-4852-f1e8-26d19ac8281d"
      },
      "execution_count": 36,
      "outputs": [
        {
          "output_type": "execute_result",
          "data": {
            "text/plain": [
              "[]"
            ]
          },
          "metadata": {},
          "execution_count": 36
        }
      ]
    },
    {
      "cell_type": "code",
      "source": [
        "def lcs(s1,s2):\n",
        "    s1l = len(s1)\n",
        "    s2l = len(s2)\n",
        "    dp = []\n",
        "    for i in range(s1l+1):\n",
        "        arr = []\n",
        "        for j in range(s2l+1):\n",
        "            arr.append(0)\n",
        "        dp.append(arr)\n",
        "\n",
        "    for i in range(s1l+1):\n",
        "        for j in range(s2l+1):\n",
        "            if i == 0 or j ==0:\n",
        "                dp[i][j] = 0\n",
        "            else:\n",
        "                if s1[i-1]==s2[j-1]:\n",
        "                    dp[i][j] = 1+dp[i-1][j-1]\n",
        "                else:\n",
        "                    dp[i][j] = max(dp[i-1][j],dp[i][j-1])\n",
        "        maxlen = dp[s1l][s2l]\n",
        "\n",
        "    l = s1l\n",
        "    r = s2l\n",
        "    ans =''\n",
        "    while l>0 and r>0 :\n",
        "          if s1[l-1] == s2[r-1]:\n",
        "             ans += s1[l-1]\n",
        "             l -=1\n",
        "             r -=1\n",
        "          else:\n",
        "              if dp[l-1][r]>dp[l][r-1]:\n",
        "                  l -=1\n",
        "              else:\n",
        "                  r -=1\n",
        "\n",
        "    return ans[::-1],maxlen\n",
        "\n",
        "\n",
        "\n",
        "s1 = \"AACCTTGG\"\n",
        "s2 = \"ACACTGTGA\"\n",
        "\n",
        "ans,mx = lcs(s1,s2)\n",
        "\n",
        "print(mx,\" -> \",ans)\n",
        "\n",
        "\n"
      ],
      "metadata": {
        "colab": {
          "base_uri": "https://localhost:8080/"
        },
        "id": "HUByoFXA4CQ5",
        "outputId": "e3af58e3-cc57-44f0-fb00-b528b3f985df"
      },
      "execution_count": 37,
      "outputs": [
        {
          "output_type": "stream",
          "name": "stdout",
          "text": [
            "6  ->  ACCTGG\n"
          ]
        }
      ]
    },
    {
      "cell_type": "code",
      "source": [
        "def totalpeptide(mass):\n",
        "    m = getMassTable(table)\n",
        "    ml = set()\n",
        "    for k,v in m.items():\n",
        "        ml.add(int(float(v))) \n",
        "\n",
        "    dp =[0]*(mass+1)\n",
        "    dp[0] = 1\n",
        "    for i in range(mass+1):\n",
        "        for j in ml: \n",
        "            if i >= j:\n",
        "               dp[i] += dp[i-j]\n",
        "\n",
        "\n",
        "    return dp[mass]            \n",
        "\n",
        "\n",
        "totalpeptide(1024)\n"
      ],
      "metadata": {
        "colab": {
          "base_uri": "https://localhost:8080/"
        },
        "id": "OPCyJino6-7V",
        "outputId": "3f06f05a-767c-4c63-b645-c50cdf623fa1"
      },
      "execution_count": 38,
      "outputs": [
        {
          "output_type": "execute_result",
          "data": {
            "text/plain": [
              "14712706211"
            ]
          },
          "metadata": {},
          "execution_count": 38
        }
      ]
    },
    {
      "cell_type": "code",
      "source": [
        "def minimumcoins(money,coins):\n",
        "    dp =[99999]*(money+1)\n",
        "    dp[0] = 0\n",
        "    for i in range(money+1):\n",
        "        for j in coins:\n",
        "            if i>= j:\n",
        "               dp[i] = min(dp[i],1+dp[i-j])\n",
        "    return dp[money]\n",
        "\n",
        "\n",
        "money = 40\n",
        "coins = [1,5,10,20,25,50]\n",
        "\n",
        "minimumcoins(money,coins)\n",
        "\n"
      ],
      "metadata": {
        "colab": {
          "base_uri": "https://localhost:8080/"
        },
        "id": "xz7OjFRy8_l2",
        "outputId": "7c4ab727-a514-4121-fdae-49ab312117e0"
      },
      "execution_count": 39,
      "outputs": [
        {
          "output_type": "execute_result",
          "data": {
            "text/plain": [
              "2"
            ]
          },
          "metadata": {},
          "execution_count": 39
        }
      ]
    },
    {
      "cell_type": "code",
      "source": [],
      "metadata": {
        "id": "mKInS0Y4BmyB"
      },
      "execution_count": 39,
      "outputs": []
    }
  ],
  "metadata": {
    "colab": {
      "provenance": [],
      "authorship_tag": "ABX9TyNK3SqPmx2MnFAOQCyxKKIJ",
      "include_colab_link": true
    },
    "kernelspec": {
      "display_name": "Python 3",
      "name": "python3"
    },
    "language_info": {
      "name": "python"
    }
  },
  "nbformat": 4,
  "nbformat_minor": 0
}