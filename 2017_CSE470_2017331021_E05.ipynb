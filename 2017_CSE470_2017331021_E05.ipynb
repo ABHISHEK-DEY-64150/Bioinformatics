{
  "nbformat": 4,
  "nbformat_minor": 0,
  "metadata": {
    "colab": {
      "provenance": [],
      "authorship_tag": "ABX9TyNXF+CgUVahmD8pPLrlDP1n",
      "include_colab_link": true
    },
    "kernelspec": {
      "name": "python3",
      "display_name": "Python 3"
    },
    "language_info": {
      "name": "python"
    }
  },
  "cells": [
    {
      "cell_type": "markdown",
      "metadata": {
        "id": "view-in-github",
        "colab_type": "text"
      },
      "source": [
        "<a href=\"https://colab.research.google.com/github/ABHISHEK-DEY-64150/Bioinformatics/blob/main/2017_CSE470_2017331021_E05.ipynb\" target=\"_parent\"><img src=\"https://colab.research.google.com/assets/colab-badge.svg\" alt=\"Open In Colab\"/></a>"
      ]
    },
    {
      "cell_type": "markdown",
      "source": [
        "## BA3A : Generate the k-mer Composition of a String"
      ],
      "metadata": {
        "id": "yj8HOfc5PIYv"
      }
    },
    {
      "cell_type": "code",
      "source": [
        "def kmer_comp(seq,k):\n",
        "  return sorted(seq[i:i+k] for i in range(len(seq)-k+1))\n",
        "\n",
        "k = 5\n",
        "seq = 'CAATCCAAC'\n",
        "\n",
        "print('\\n'.join(kmer_comp(seq,k)))\n"
      ],
      "metadata": {
        "colab": {
          "base_uri": "https://localhost:8080/"
        },
        "id": "I3oz9WxiPTmH",
        "outputId": "f9f0fda2-59d7-4628-cc94-c661b20cadc1"
      },
      "execution_count": null,
      "outputs": [
        {
          "output_type": "stream",
          "name": "stdout",
          "text": [
            "AATCC\n",
            "ATCCA\n",
            "CAATC\n",
            "CCAAC\n",
            "TCCAA\n"
          ]
        }
      ]
    },
    {
      "cell_type": "markdown",
      "source": [
        "## BA3B : Reconstruct a String from its Genome Path"
      ],
      "metadata": {
        "id": "gafuW-RJRVZt"
      }
    },
    {
      "cell_type": "code",
      "source": [
        "def reconstruct(seq):\n",
        "  ans = \"\"\n",
        "  for i in range(len(seq)):\n",
        "    ans+=seq[i][0]\n",
        "\n",
        "  for j in range(len(seq[len(seq)-1])):\n",
        "    if j!=0:\n",
        "      ans+=seq[len(seq)-1][j]  \n",
        "  return ans\n",
        "\n",
        "seq = ['ACCGA','CCGAA','CGAAG','GAAGC','AAGCT']\n",
        "\n",
        "print(reconstruct(seq))\n",
        "\n",
        "\n"
      ],
      "metadata": {
        "colab": {
          "base_uri": "https://localhost:8080/"
        },
        "id": "G0QRJIYaRvvU",
        "outputId": "3513794f-4d54-4f06-c1e0-afd1a17df592"
      },
      "execution_count": null,
      "outputs": [
        {
          "output_type": "stream",
          "name": "stdout",
          "text": [
            "ACCGAAGCT\n"
          ]
        }
      ]
    },
    {
      "cell_type": "markdown",
      "source": [
        "## BA3D: Construct the De Bruijn Graph of a String"
      ],
      "metadata": {
        "id": "5dA9_YMnUZ1W"
      }
    },
    {
      "cell_type": "code",
      "source": [
        "dna = \"AAGATTCTCTAC\"\n",
        "k = 4\n",
        "k_mer = kmer_comp(dna,k)\n",
        "\n",
        "edges = {}\n",
        "\n",
        "for i in range(len(k_mer)):\n",
        "  seq = k_mer[i]\n",
        " \n",
        "  edges.setdefault(seq[0:k-1], []).append(seq[1:k])\n",
        "   \n",
        "\n",
        "for k,v in edges.items():\n",
        "  print(k,\"->\",end=\" \")\n",
        "  for i in range(len(v)):\n",
        "    print(v[i],end=\" \")\n",
        "  print(\"\\n\")"
      ],
      "metadata": {
        "colab": {
          "base_uri": "https://localhost:8080/"
        },
        "id": "ECJU9WC6UmSg",
        "outputId": "bc22bf0e-6161-4ed8-82be-dcac4968a9d7"
      },
      "execution_count": null,
      "outputs": [
        {
          "output_type": "stream",
          "name": "stdout",
          "text": [
            "AAG -> AGA \n",
            "\n",
            "AGA -> GAT \n",
            "\n",
            "ATT -> TTC \n",
            "\n",
            "CTA -> TAC \n",
            "\n",
            "CTC -> TCT \n",
            "\n",
            "GAT -> ATT \n",
            "\n",
            "TCT -> CTA CTC \n",
            "\n",
            "TTC -> TCT \n",
            "\n"
          ]
        }
      ]
    },
    {
      "cell_type": "markdown",
      "source": [
        "## BA3E : Construct the De Bruijn Graph of a Collection of k-mers"
      ],
      "metadata": {
        "id": "fhWCwNthb0Dj"
      }
    },
    {
      "cell_type": "code",
      "source": [
        "def bruijn_kmer(dna):\n",
        "  edges = {}\n",
        "\n",
        "  for i in range(len(dna)):\n",
        "     seq = dna[i]\n",
        " \n",
        "     edges.setdefault(seq[0:4-1], []).append(seq[1:4])\n",
        "   \n",
        "\n",
        "  for k,v in sorted(edges.items()):\n",
        "    print(k,\"->\",end=\" \")\n",
        "    for i in range(len(v)):\n",
        "      print(v[i],end=\" \")\n",
        "    print(\"\\n\")\n",
        "\n",
        "\n",
        "dna = ['GAGG','CAGG','GGGG','GGGA','CAGG','AGGG','GGAG']\n",
        "\n",
        "bruijn_kmer(dna)\n"
      ],
      "metadata": {
        "colab": {
          "base_uri": "https://localhost:8080/"
        },
        "id": "XDsQyEs9b_D4",
        "outputId": "a7927bee-0cb5-4139-ee48-914fce3c464b"
      },
      "execution_count": null,
      "outputs": [
        {
          "output_type": "stream",
          "name": "stdout",
          "text": [
            "AGG -> GGG \n",
            "\n",
            "CAG -> AGG AGG \n",
            "\n",
            "GAG -> AGG \n",
            "\n",
            "GGA -> GAG \n",
            "\n",
            "GGG -> GGG GGA \n",
            "\n"
          ]
        }
      ]
    },
    {
      "cell_type": "markdown",
      "source": [
        "# BA3F : Find an Eulerian Cycle in a Graph"
      ],
      "metadata": {
        "id": "xjhfnBjwoeW3"
      }
    },
    {
      "cell_type": "code",
      "source": [
        "import random as rd\n",
        "\n",
        "def euler_cycle(graph,start = None):\n",
        "  tour = []\n",
        "  start = rd.choice([*graph.keys()]) if start is None else start\n",
        "  def cycle(n):\n",
        "    while len(graph[n])>0:\n",
        "      nxt = graph[n].pop()\n",
        "      cycle(nxt)\n",
        "    tour.append(n)\n",
        "  cycle(start)\n",
        "  tour = tour[::-1]\n",
        "  return tour \n",
        "\n",
        "\n",
        "graph = {0:[3],1:[0],2:[1,6],3:[2],4:[2],5:[4],6:[5,8],7:[9],8:[7],9:[6]}\n",
        "\n",
        "print('->'.join(str(i) for i in euler_cycle(graph)))"
      ],
      "metadata": {
        "colab": {
          "base_uri": "https://localhost:8080/"
        },
        "id": "7G5OCGZbqHLP",
        "outputId": "a0d6691d-488f-412d-df99-db87b71a6ee3"
      },
      "execution_count": null,
      "outputs": [
        {
          "output_type": "stream",
          "name": "stdout",
          "text": [
            "3->2->6->8->7->9->6->5->4->2->1->0->3\n"
          ]
        }
      ]
    }
  ]
}