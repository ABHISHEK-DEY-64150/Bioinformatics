{
  "nbformat": 4,
  "nbformat_minor": 0,
  "metadata": {
    "colab": {
      "provenance": [],
      "authorship_tag": "ABX9TyOyz4kjicnjWmW7q+P4CdCO",
      "include_colab_link": true
    },
    "kernelspec": {
      "name": "python3",
      "display_name": "Python 3"
    },
    "language_info": {
      "name": "python"
    }
  },
  "cells": [
    {
      "cell_type": "markdown",
      "metadata": {
        "id": "view-in-github",
        "colab_type": "text"
      },
      "source": [
        "<a href=\"https://colab.research.google.com/github/ABHISHEK-DEY-64150/Bioinformatics/blob/main/2017_CSE470_2017331021_E07.ipynb\" target=\"_parent\"><img src=\"https://colab.research.google.com/assets/colab-badge.svg\" alt=\"Open In Colab\"/></a>"
      ]
    },
    {
      "cell_type": "markdown",
      "source": [
        "## BA5A : Find the Minimum Number of Coins Needed to Make Change"
      ],
      "metadata": {
        "id": "sO8gQhIhQXlu"
      }
    },
    {
      "cell_type": "code",
      "source": [
        "def min_coins_for_change(money,coins):\n",
        "  coin_count = [0]*(money+1)\n",
        "  for m in range(1,money+1):\n",
        "    coin_count[m]=min(coin_count[m-coin]+1 for coin in coins if m>=coin)\n",
        "  return coin_count[money]  \n",
        "\n",
        "money = 40\n",
        "\n",
        "coins = [1,5,10,20,25,50]\n",
        "\n",
        "min_coins_for_change(money,coins)\n"
      ],
      "metadata": {
        "colab": {
          "base_uri": "https://localhost:8080/"
        },
        "id": "kFBvCqAIQeB-",
        "outputId": "f14b9032-d519-4918-994d-1eef5e5fa645"
      },
      "execution_count": null,
      "outputs": [
        {
          "output_type": "execute_result",
          "data": {
            "text/plain": [
              "2"
            ]
          },
          "metadata": {},
          "execution_count": 61
        }
      ]
    },
    {
      "cell_type": "markdown",
      "source": [
        "## BA5B: Find the Length of a Longest Path in a Manhattan-like Grid or Length of a Longest Path in the Manhattan Tourist Problem"
      ],
      "metadata": {
        "id": "dzQsf_z0UeHF"
      }
    },
    {
      "cell_type": "code",
      "source": [
        "import numpy as np\n",
        "\n",
        "def longest_path_length(n,m,down_matrix,right_matrix):\n",
        "  scores = np.zeros([n+1,m+1],dtype =int)\n",
        "  scores[1:,0] = np.cumsum(down_matrix[:,0])\n",
        "  scores[0,1:] = np.cumsum(right_matrix[0,:])\n",
        "  for i in range(1,n+1):\n",
        "    for j in range(1,m+1):\n",
        "      scores[i,j] = max(scores[i-1,j]+down_matrix[i-1,j],scores[i,j-1]+right_matrix[i,j-1])\n",
        "\n",
        "  return scores[n,m]    \n",
        "\n",
        "\n",
        "\n",
        "input_str = '''1 0 2 4 3\n",
        "4 6 5 2 1\n",
        "4 4 5 2 1\n",
        "5 6 8 5 3'''\n",
        "\n",
        "down_matrix = np.fromstring(input_str,dtype = int,sep = ' ').reshape(4,5)\n",
        "\n",
        "# print(down_matrix)\n",
        "\n",
        "input_str = '''3 2 4 0\n",
        "3 2 4 2\n",
        "0 7 3 3\n",
        "3 3 0 2\n",
        "1 3 2 2'''\n",
        "\n",
        "right_matrix = np.fromstring(input_str,dtype = int,sep = ' ').reshape(5,4)\n",
        "# print(right_matrix)\n",
        "n,m = 4,4\n",
        "longest_path_length(n,m,down_matrix,right_matrix)\n",
        "\n"
      ],
      "metadata": {
        "id": "VJReMiKOTViu",
        "colab": {
          "base_uri": "https://localhost:8080/"
        },
        "outputId": "3b20efe9-310f-4d96-bad9-115e55e24d38"
      },
      "execution_count": null,
      "outputs": [
        {
          "output_type": "execute_result",
          "data": {
            "text/plain": [
              "34"
            ]
          },
          "metadata": {},
          "execution_count": 62
        }
      ]
    },
    {
      "cell_type": "markdown",
      "source": [
        "## BA5C : Find a Longest Common Subsequence of Two Strings"
      ],
      "metadata": {
        "id": "KCSR3AiwgkPW"
      }
    },
    {
      "cell_type": "code",
      "source": [
        "def LCS(str1,str2):\n",
        "  m = len(str1)\n",
        "  n = len(str2)\n",
        "  L = [[0 for i in range(n+1)] for j in range(m+1)]\n",
        "\n",
        "  #print(L)\n",
        "  for i in range(m+1):\n",
        "     for j in range(n+1):\n",
        "         if i == 0 or j == 0:\n",
        "               L[i][j] = 0\n",
        "         elif str1[i-1] == str2[j-1] or str1[i-1] != str2[j-1]:\n",
        "               \n",
        "                L[i][j] = L[i-1][j-1] + 1\n",
        "         else:\n",
        "                L[i][j] = max(L[i-1][j], L[i][j-1])\n",
        "  \n",
        "   \n",
        "  lcs = \"\"\n",
        "  i = m\n",
        "  j = n \n",
        "\n",
        "  while i > 0 and j > 0:\n",
        "      \n",
        "      if str1[i-1] == str2[j-1]:\n",
        "            \n",
        "            lcs += str1[i-1]\n",
        "            i -= 1\n",
        "            j -= 1\n",
        "\n",
        "      elif L[i-1][j] > L[i][j-1]:\n",
        "            i -= 1\n",
        "             \n",
        "      else:\n",
        "            j -= 1\n",
        "\n",
        "  lcs = lcs[::-1]\n",
        "\n",
        "  return lcs          \n",
        "\n",
        "str1 = 'AACCTTGG'  \n",
        "str2 = 'ACACTGTGA'\n",
        "LCS(str1,str2)"
      ],
      "metadata": {
        "id": "UrOK3b6XXJXG",
        "colab": {
          "base_uri": "https://localhost:8080/",
          "height": 35
        },
        "outputId": "793a64a1-1c67-46db-fe9d-0a58987523a2"
      },
      "execution_count": null,
      "outputs": [
        {
          "output_type": "execute_result",
          "data": {
            "text/plain": [
              "'ACCTGG'"
            ],
            "application/vnd.google.colaboratory.intrinsic+json": {
              "type": "string"
            }
          },
          "metadata": {},
          "execution_count": 63
        }
      ]
    },
    {
      "cell_type": "markdown",
      "source": [
        "## BA5E : Find a Highest-Scoring Alignment of Two Strings or Global Alignment Problem"
      ],
      "metadata": {
        "id": "HSjTuZywoGDm"
      }
    },
    {
      "cell_type": "code",
      "source": [
        "%%writefile BLOSUM62.txt\n",
        " A  C  D  E  F  G  H  I  K  L  M  N  P  Q  R  S  T  V  W  Y\n",
        "A  4  0 -2 -1 -2  0 -2 -1 -1 -1 -1 -2 -1 -1 -1  1  0  0 -3 -2\n",
        "C  0  9 -3 -4 -2 -3 -3 -1 -3 -1 -1 -3 -3 -3 -3 -1 -1 -1 -2 -2\n",
        "D -2 -3  6  2 -3 -1 -1 -3 -1 -4 -3  1 -1  0 -2  0 -1 -3 -4 -3\n",
        "E -1 -4  2  5 -3 -2  0 -3  1 -3 -2  0 -1  2  0  0 -1 -2 -3 -2\n",
        "F -2 -2 -3 -3  6 -3 -1  0 -3  0  0 -3 -4 -3 -3 -2 -2 -1  1  3\n",
        "G  0 -3 -1 -2 -3  6 -2 -4 -2 -4 -3  0 -2 -2 -2  0 -2 -3 -2 -3\n",
        "H -2 -3 -1  0 -1 -2  8 -3 -1 -3 -2  1 -2  0  0 -1 -2 -3 -2  2\n",
        "I -1 -1 -3 -3  0 -4 -3  4 -3  2  1 -3 -3 -3 -3 -2 -1  3 -3 -1\n",
        "K -1 -3 -1  1 -3 -2 -1 -3  5 -2 -1  0 -1  1  2  0 -1 -2 -3 -2\n",
        "L -1 -1 -4 -3  0 -4 -3  2 -2  4  2 -3 -3 -2 -2 -2 -1  1 -2 -1\n",
        "M -1 -1 -3 -2  0 -3 -2  1 -1  2  5 -2 -2  0 -1 -1 -1  1 -1 -1\n",
        "N -2 -3  1  0 -3  0  1 -3  0 -3 -2  6 -2  0  0  1  0 -3 -4 -2\n",
        "P -1 -3 -1 -1 -4 -2 -2 -3 -1 -3 -2 -2  7 -1 -2 -1 -1 -2 -4 -3\n",
        "Q -1 -3  0  2 -3 -2  0 -3  1 -2  0  0 -1  5  1  0 -1 -2 -2 -1\n",
        "R -1 -3 -2  0 -3 -2  0 -3  2 -2 -1  0 -2  1  5 -1 -1 -3 -3 -2\n",
        "S  1 -1  0  0 -2  0 -1 -2  0 -2 -1  1 -1  0 -1  4  1 -2 -3 -2\n",
        "T  0 -1 -1 -1 -2 -2 -2 -1 -1 -1 -1  0 -1 -1 -1  1  5  0 -2 -2\n",
        "V  0 -1 -3 -2 -1 -3 -3  3 -2  1  1 -3 -2 -2 -3 -2  0  4 -3 -1\n",
        "W -3 -2 -4 -3  1 -2 -2 -3 -3 -2 -1 -4 -4 -2 -3 -3 -2 -3 11  2\n",
        "Y -2 -2 -3 -2  3 -3  2 -1 -2 -1 -1 -2 -3 -1 -2 -2 -2 -1  2  7"
      ],
      "metadata": {
        "colab": {
          "base_uri": "https://localhost:8080/"
        },
        "id": "oE7dNv-9oND-",
        "outputId": "a2c06d28-cc1d-4663-b631-7b00eb20bf2f"
      },
      "execution_count": null,
      "outputs": [
        {
          "output_type": "stream",
          "name": "stdout",
          "text": [
            "Overwriting BLOSUM62.txt\n"
          ]
        }
      ]
    },
    {
      "cell_type": "code",
      "source": [
        "def get_scoring_matrix(file_name):\n",
        "  d = {}\n",
        "  with open(file_name) as f:\n",
        "    cols = f.readline().strip().split()\n",
        "    for line in f.readlines():\n",
        "      rows = line.strip().split()\n",
        "      for i,col in enumerate(cols):\n",
        "        d[(rows[0],col)] = int(rows[i+1])\n",
        "\n",
        "  return d\n",
        "\n",
        "d = get_scoring_matrix('BLOSUM62.txt')  \n",
        "d[('A','A')]\n"
      ],
      "metadata": {
        "colab": {
          "base_uri": "https://localhost:8080/"
        },
        "id": "6nOwewT_o2Xm",
        "outputId": "4f0ed0cc-7d33-4ccb-c4f8-58295315d326"
      },
      "execution_count": null,
      "outputs": [
        {
          "output_type": "execute_result",
          "data": {
            "text/plain": [
              "4"
            ]
          },
          "metadata": {},
          "execution_count": 65
        }
      ]
    }
  ]
}